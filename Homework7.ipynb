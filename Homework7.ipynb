{
 "cells": [
  {
   "cell_type": "markdown",
   "metadata": {},
   "source": [
    "### 為了能夠提供更好的疾病詢答服務給一般民眾，因此你奉命要建立一個自動問答機器人。為了能夠正確回覆使用者的問題，我們首先從疾管署的官網上(http://www.cdc.gov.tw/disease.aspx?treeid=8d54c504e820735b )的傳染病專區蒐集了所有「疾病名稱」 、「相關發病症狀」與「治療方法與就醫資訊」，並將該資料存放於(https://raw.githubusercontent.com/ywchiu/cdc_course/master/data/disease_info.xlsx)　，現在有一民眾在網路問了以下問題：「請問陳醫生，我們家三歲小孩發燒，且嘴巴周圍和手腳都出現水泡和潰瘍，八歲的姊姊發燒喉嚨痛、手腳長水泡，請問我們家小孩生了什麼病呢？」，請試著用傳染病專區資料所建立的問答機器人回答以下問題：\n",
    "\n",
    "1. 請寫一個函數getResponse，當使用者輸入問題時，機器人可以根據問題與「相關發病症狀」的相似度，回傳最相似疾病症狀的「疾病名稱」與「治療方法與就醫資訊」\n",
    "2. 回答與該問題最相關的「疾病名稱」與「治療方法與就醫資訊」"
   ]
  },
  {
   "cell_type": "markdown",
   "metadata": {},
   "source": [
    "## 問答資料抓取"
   ]
  },
  {
   "cell_type": "code",
   "execution_count": 2,
   "metadata": {},
   "outputs": [],
   "source": [
    "import requests\n",
    "res = requests.get('http://www.cdc.gov.tw/disease.aspx?treeid=8d54c504e820735b&nowtreeid=dec84a2f0c6fac5b')\n",
    "#res.text"
   ]
  },
  {
   "cell_type": "code",
   "execution_count": 9,
   "metadata": {},
   "outputs": [
    {
     "name": "stdout",
     "output_type": "stream",
     "text": [
      "http://www.cdc.gov.tw/diseaseinfo.aspx?treeid=8d54c504e820735b&nowtreeid=dec84a2f0c6fac5b&tid=77BFF3D4F9CB7982\n",
      "http://www.cdc.gov.tw/diseaseinfo.aspx?treeid=8d54c504e820735b&nowtreeid=dec84a2f0c6fac5b&tid=59FB45DE0CD3F8A0\n",
      "http://www.cdc.gov.tw/diseaseinfo.aspx?treeid=8d54c504e820735b&nowtreeid=dec84a2f0c6fac5b&tid=AC308F5F5E7F4299\n",
      "http://www.cdc.gov.tw/diseaseinfo.aspx?treeid=8d54c504e820735b&nowtreeid=dec84a2f0c6fac5b&tid=CFB77829C7ABD761\n",
      "http://www.cdc.gov.tw/diseaseinfo.aspx?treeid=8d54c504e820735b&nowtreeid=dec84a2f0c6fac5b&tid=8F87A67697D2278B\n",
      "http://www.cdc.gov.tw/diseaseinfo.aspx?treeid=8d54c504e820735b&nowtreeid=dec84a2f0c6fac5b&tid=5976EE7146BF5A34\n",
      "http://www.cdc.gov.tw/diseaseinfo.aspx?treeid=8d54c504e820735b&nowtreeid=dec84a2f0c6fac5b&tid=1C7BF6D5F52F478C\n",
      "http://www.cdc.gov.tw/diseaseinfo.aspx?treeid=8d54c504e820735b&nowtreeid=dec84a2f0c6fac5b&tid=3C994A4FA28416FC\n",
      "http://www.cdc.gov.tw/diseaseinfo.aspx?treeid=8d54c504e820735b&nowtreeid=dec84a2f0c6fac5b&tid=778876767EA9B06C\n",
      "http://www.cdc.gov.tw/diseaseinfo.aspx?treeid=8d54c504e820735b&nowtreeid=dec84a2f0c6fac5b&tid=DED62714A07C973A\n",
      "http://www.cdc.gov.tw/diseaseinfo.aspx?treeid=8d54c504e820735b&nowtreeid=dec84a2f0c6fac5b&tid=39EEA2430F0D193B\n",
      "http://www.cdc.gov.tw/diseaseinfo.aspx?treeid=8d54c504e820735b&nowtreeid=dec84a2f0c6fac5b&tid=2560135C8787ACC9\n",
      "http://www.cdc.gov.tw/diseaseinfo.aspx?treeid=8d54c504e820735b&nowtreeid=dec84a2f0c6fac5b&tid=BF8212C8B091475E\n",
      "http://www.cdc.gov.tw/diseaseinfo.aspx?treeid=8d54c504e820735b&nowtreeid=dec84a2f0c6fac5b&tid=B3EFBE47CB5B528B\n",
      "http://www.cdc.gov.tw/diseaseinfo.aspx?treeid=8d54c504e820735b&nowtreeid=dec84a2f0c6fac5b&tid=DAB2C8BFA4E99546\n",
      "http://www.cdc.gov.tw/diseaseinfo.aspx?treeid=8d54c504e820735b&nowtreeid=dec84a2f0c6fac5b&tid=900059B505FD76DF\n",
      "http://www.cdc.gov.tw/diseaseinfo.aspx?treeid=8d54c504e820735b&nowtreeid=dec84a2f0c6fac5b&tid=49589DADC469AE67\n",
      "http://www.cdc.gov.tw/diseaseinfo.aspx?treeid=8d54c504e820735b&nowtreeid=dec84a2f0c6fac5b&tid=2463B5769DDC8E07\n",
      "http://www.cdc.gov.tw/diseaseinfo.aspx?treeid=8d54c504e820735b&nowtreeid=dec84a2f0c6fac5b&tid=86E7C9F4BE08D402\n",
      "http://www.cdc.gov.tw/diseaseinfo.aspx?treeid=8d54c504e820735b&nowtreeid=dec84a2f0c6fac5b&tid=D03CCE3DF521E46A\n",
      "http://www.cdc.gov.tw/diseaseinfo.aspx?treeid=8d54c504e820735b&nowtreeid=dec84a2f0c6fac5b&tid=0AC35BE524316F6E\n",
      "http://www.cdc.gov.tw/diseaseinfo.aspx?treeid=8d54c504e820735b&nowtreeid=dec84a2f0c6fac5b&tid=7D1D150DFB066004\n",
      "http://www.cdc.gov.tw/diseaseinfo.aspx?treeid=8d54c504e820735b&nowtreeid=dec84a2f0c6fac5b&tid=CD09974C1FE4B929\n",
      "http://www.cdc.gov.tw/diseaseinfo.aspx?treeid=8d54c504e820735b&nowtreeid=dec84a2f0c6fac5b&tid=A664CCFBD51288B0\n",
      "http://www.cdc.gov.tw/diseaseinfo.aspx?treeid=8d54c504e820735b&nowtreeid=dec84a2f0c6fac5b&tid=FC684A1C772115D7\n",
      "http://www.cdc.gov.tw/diseaseinfo.aspx?treeid=8d54c504e820735b&nowtreeid=dec84a2f0c6fac5b&tid=9FA12F779BF31729\n",
      "http://www.cdc.gov.tw/diseaseinfo.aspx?treeid=8d54c504e820735b&nowtreeid=dec84a2f0c6fac5b&tid=5848FEA154B21703\n",
      "http://www.cdc.gov.tw/diseaseinfo.aspx?treeid=8d54c504e820735b&nowtreeid=dec84a2f0c6fac5b&tid=1DB4C438EA3B1E76\n",
      "http://www.cdc.gov.tw/diseaseinfo.aspx?treeid=8d54c504e820735b&nowtreeid=dec84a2f0c6fac5b&tid=4775659102DE26C1\n",
      "http://www.cdc.gov.tw/diseaseinfo.aspx?treeid=8d54c504e820735b&nowtreeid=dec84a2f0c6fac5b&tid=2CF06E0F40B546B8\n",
      "http://www.cdc.gov.tw/diseaseinfo.aspx?treeid=8d54c504e820735b&nowtreeid=dec84a2f0c6fac5b&tid=16533556D6300F4F\n",
      "http://www.cdc.gov.tw/diseaseinfo.aspx?treeid=8d54c504e820735b&nowtreeid=dec84a2f0c6fac5b&tid=D4090DC3C44F755E\n",
      "http://www.cdc.gov.tw/diseaseinfo.aspx?treeid=8d54c504e820735b&nowtreeid=dec84a2f0c6fac5b&tid=40A13713A346C838\n",
      "http://www.cdc.gov.tw/diseaseinfo.aspx?treeid=8d54c504e820735b&nowtreeid=dec84a2f0c6fac5b&tid=109B9B14D881EED2\n",
      "http://www.cdc.gov.tw/diseaseinfo.aspx?treeid=8d54c504e820735b&nowtreeid=dec84a2f0c6fac5b&tid=A3088CE5CC1F6B14\n",
      "http://www.cdc.gov.tw/diseaseinfo.aspx?treeid=8d54c504e820735b&nowtreeid=dec84a2f0c6fac5b&tid=4E79822E96B2FFE9\n",
      "http://www.cdc.gov.tw/diseaseinfo.aspx?treeid=8d54c504e820735b&nowtreeid=dec84a2f0c6fac5b&tid=6AF06C6D63FBD8FE\n",
      "http://www.cdc.gov.tw/diseaseinfo.aspx?treeid=8d54c504e820735b&nowtreeid=dec84a2f0c6fac5b&tid=4C24959402FFB812\n",
      "http://www.cdc.gov.tw/diseaseinfo.aspx?treeid=8d54c504e820735b&nowtreeid=dec84a2f0c6fac5b&tid=9E2A51093406A2F4\n",
      "http://www.cdc.gov.tw/diseaseinfo.aspx?treeid=8d54c504e820735b&nowtreeid=dec84a2f0c6fac5b&tid=A6D83F837BA318BA\n",
      "http://www.cdc.gov.tw/diseaseinfo.aspx?treeid=8d54c504e820735b&nowtreeid=dec84a2f0c6fac5b&tid=6CB2EE526856976F\n",
      "http://www.cdc.gov.tw/diseaseinfo.aspx?treeid=8d54c504e820735b&nowtreeid=dec84a2f0c6fac5b&tid=30438A9E5363E7E0\n",
      "http://www.cdc.gov.tw/diseaseinfo.aspx?treeid=8d54c504e820735b&nowtreeid=dec84a2f0c6fac5b&tid=BAB48CF8772C3B05\n",
      "http://www.cdc.gov.tw/diseaseinfo.aspx?treeid=8d54c504e820735b&nowtreeid=dec84a2f0c6fac5b&tid=2204DE11B176D590\n",
      "http://www.cdc.gov.tw/diseaseinfo.aspx?treeid=8d54c504e820735b&nowtreeid=dec84a2f0c6fac5b&tid=3013B7FC8F965336\n",
      "http://www.cdc.gov.tw/diseaseinfo.aspx?treeid=8d54c504e820735b&nowtreeid=dec84a2f0c6fac5b&tid=1B5D2BF9B5B96C06\n",
      "http://www.cdc.gov.tw/diseaseinfo.aspx?treeid=8d54c504e820735b&nowtreeid=dec84a2f0c6fac5b&tid=3687AF99CCB7AABA\n",
      "http://www.cdc.gov.tw/diseaseinfo.aspx?treeid=8d54c504e820735b&nowtreeid=dec84a2f0c6fac5b&tid=EB2BECD7208073E4\n",
      "http://www.cdc.gov.tw/diseaseinfo.aspx?treeid=8d54c504e820735b&nowtreeid=dec84a2f0c6fac5b&tid=E496B051C5DB941B\n",
      "http://www.cdc.gov.tw/diseaseinfo.aspx?treeid=8d54c504e820735b&nowtreeid=dec84a2f0c6fac5b&tid=2E2B87449C3583AC\n",
      "http://www.cdc.gov.tw/diseaseinfo.aspx?treeid=8d54c504e820735b&nowtreeid=dec84a2f0c6fac5b&tid=166ADF19B748B86A\n",
      "http://www.cdc.gov.tw/diseaseinfo.aspx?treeid=8d54c504e820735b&nowtreeid=dec84a2f0c6fac5b&tid=7AE2FF6AD0360546\n",
      "http://www.cdc.gov.tw/diseaseinfo.aspx?treeid=8d54c504e820735b&nowtreeid=dec84a2f0c6fac5b&tid=BA1E4B695CF4C89F\n",
      "http://www.cdc.gov.tw/diseaseinfo.aspx?treeid=8d54c504e820735b&nowtreeid=dec84a2f0c6fac5b&tid=0FCA7A8669C8AC95\n",
      "http://www.cdc.gov.tw/diseaseinfo.aspx?treeid=8d54c504e820735b&nowtreeid=dec84a2f0c6fac5b&tid=8A5ED86E1F900BF2\n",
      "http://www.cdc.gov.tw/diseaseinfo.aspx?treeid=8d54c504e820735b&nowtreeid=dec84a2f0c6fac5b&tid=5D72E07679B5057C\n",
      "http://www.cdc.gov.tw/diseaseinfo.aspx?treeid=8d54c504e820735b&nowtreeid=dec84a2f0c6fac5b&tid=16CD29A279936655\n",
      "http://www.cdc.gov.tw/diseaseinfo.aspx?treeid=8d54c504e820735b&nowtreeid=dec84a2f0c6fac5b&tid=4B84885EB6795AC7\n",
      "http://www.cdc.gov.tw/diseaseinfo.aspx?treeid=8d54c504e820735b&nowtreeid=dec84a2f0c6fac5b&tid=3448E1B7E360BA50\n",
      "http://www.cdc.gov.tw/diseaseinfo.aspx?treeid=8d54c504e820735b&nowtreeid=dec84a2f0c6fac5b&tid=45328EDA04F7EB12\n",
      "http://www.cdc.gov.tw/diseaseinfo.aspx?treeid=8d54c504e820735b&nowtreeid=dec84a2f0c6fac5b&tid=67CCCCD371D8DD79\n",
      "http://www.cdc.gov.tw/diseaseinfo.aspx?treeid=8d54c504e820735b&nowtreeid=dec84a2f0c6fac5b&tid=91F0941F403EE107\n",
      "http://www.cdc.gov.tw/diseaseinfo.aspx?treeid=8d54c504e820735b&nowtreeid=dec84a2f0c6fac5b&tid=5EADA9389EF93DE4\n",
      "http://www.cdc.gov.tw/diseaseinfo.aspx?treeid=8d54c504e820735b&nowtreeid=dec84a2f0c6fac5b&tid=0D62EE0F6D4EBF8C\n",
      "http://www.cdc.gov.tw/diseaseinfo.aspx?treeid=8d54c504e820735b&nowtreeid=dec84a2f0c6fac5b&tid=A7AF893FD64D1AAB\n",
      "http://www.cdc.gov.tw/diseaseinfo.aspx?treeid=8d54c504e820735b&nowtreeid=dec84a2f0c6fac5b&tid=4F860B4BBF6BE67C\n",
      "http://www.cdc.gov.tw/diseaseinfo.aspx?treeid=8d54c504e820735b&nowtreeid=dec84a2f0c6fac5b&tid=BD8D809CEFD7C723\n",
      "http://www.cdc.gov.tw/diseaseinfo.aspx?treeid=8d54c504e820735b&nowtreeid=dec84a2f0c6fac5b&tid=5CA41646EE28F677\n",
      "http://www.cdc.gov.tw/diseaseinfo.aspx?treeid=8d54c504e820735b&nowtreeid=dec84a2f0c6fac5b&tid=D47D6C4244E0E715\n",
      "http://www.cdc.gov.tw/diseaseinfo.aspx?treeid=8d54c504e820735b&nowtreeid=dec84a2f0c6fac5b&tid=11498A962D46A726\n",
      "http://www.cdc.gov.tw/diseaseinfo.aspx?treeid=8d54c504e820735b&nowtreeid=dec84a2f0c6fac5b&tid=2FC8BD0F385B4B23\n",
      "http://www.cdc.gov.tw/diseaseinfo.aspx?treeid=8d54c504e820735b&nowtreeid=dec84a2f0c6fac5b&tid=9D2E1B3A862F06FB\n",
      "http://www.cdc.gov.tw/diseaseinfo.aspx?treeid=8d54c504e820735b&nowtreeid=dec84a2f0c6fac5b&tid=E6EF6B00003631B5\n",
      "http://www.cdc.gov.tw/diseaseinfo.aspx?treeid=8d54c504e820735b&nowtreeid=dec84a2f0c6fac5b&tid=C0883117AE98CBAC\n",
      "http://www.cdc.gov.tw/diseaseinfo.aspx?treeid=8d54c504e820735b&nowtreeid=dec84a2f0c6fac5b&tid=110FA1639DEF7957\n",
      "http://www.cdc.gov.tw/diseaseinfo.aspx?treeid=8d54c504e820735b&nowtreeid=dec84a2f0c6fac5b&tid=37DAE22507FE1341\n",
      "http://www.cdc.gov.tw/diseaseinfo.aspx?treeid=8d54c504e820735b&nowtreeid=dec84a2f0c6fac5b&tid=B7A99E685C850D64\n",
      "http://www.cdc.gov.tw/diseaseinfo.aspx?treeid=8d54c504e820735b&nowtreeid=dec84a2f0c6fac5b&tid=4DC6CDD1D4B8972D\n",
      "http://www.cdc.gov.tw/diseaseinfo.aspx?treeid=8d54c504e820735b&nowtreeid=dec84a2f0c6fac5b&tid=4E9C3E6AC79BFB9D\n",
      "http://www.cdc.gov.tw/diseaseinfo.aspx?treeid=8d54c504e820735b&nowtreeid=dec84a2f0c6fac5b&tid=93A90D21A8A6D479\n",
      "http://www.cdc.gov.tw/diseaseinfo.aspx?treeid=8d54c504e820735b&nowtreeid=dec84a2f0c6fac5b&tid=9618DBD92CAD7F8F\n",
      "http://www.cdc.gov.tw/diseaseinfo.aspx?treeid=8d54c504e820735b&nowtreeid=dec84a2f0c6fac5b&tid=D40B2E6AC7484C3B\n",
      "http://www.cdc.gov.tw/diseaseinfo.aspx?treeid=8d54c504e820735b&nowtreeid=dec84a2f0c6fac5b&tid=F81306B23916A286\n",
      "http://www.cdc.gov.tw/diseaseinfo.aspx?treeid=8d54c504e820735b&nowtreeid=dec84a2f0c6fac5b&tid=7539A23334280253\n",
      "http://www.cdc.gov.tw/diseaseinfo.aspx?treeid=8d54c504e820735b&nowtreeid=dec84a2f0c6fac5b&tid=3D5FAA7DEE4D73DB\n",
      "http://www.cdc.gov.tw/diseaseinfo.aspx?treeid=8d54c504e820735b&nowtreeid=dec84a2f0c6fac5b&tid=D4B63062FD6D1963\n",
      "http://www.cdc.gov.tw/diseaseinfo.aspx?treeid=8d54c504e820735b&nowtreeid=dec84a2f0c6fac5b&tid=A1D7910CD9970140\n",
      "http://www.cdc.gov.tw/diseaseinfo.aspx?treeid=8d54c504e820735b&nowtreeid=dec84a2f0c6fac5b&tid=BF679E21AC3C45E0\n",
      "http://www.cdc.gov.tw/diseaseinfo.aspx?treeid=8d54c504e820735b&nowtreeid=dec84a2f0c6fac5b&tid=EF5AF2A9D2E6CC3A\n",
      "http://www.cdc.gov.tw/diseaseinfo.aspx?treeid=8d54c504e820735b&nowtreeid=dec84a2f0c6fac5b&tid=11F61CDA6C98C1D1\n",
      "http://www.cdc.gov.tw/diseaseinfo.aspx?treeid=8d54c504e820735b&nowtreeid=dec84a2f0c6fac5b&tid=D7A8974B83F1BF28\n",
      "http://www.cdc.gov.tw/diseaseinfo.aspx?treeid=8d54c504e820735b&nowtreeid=dec84a2f0c6fac5b&tid=62DDA453867679D2\n"
     ]
    }
   ],
   "source": [
    "from bs4 import BeautifulSoup\n",
    "domain = 'http://www.cdc.gov.tw/'\n",
    "soup = BeautifulSoup(res.text, 'html.parser')\n",
    "for li in soup.select('.list_content td'):\n",
    "    if len(li.select('a')) >0:\n",
    "        print(domain + li.select('a')[0]['href'])"
   ]
  },
  {
   "cell_type": "markdown",
   "metadata": {},
   "source": [
    "## 抓取內容頁"
   ]
  },
  {
   "cell_type": "code",
   "execution_count": 11,
   "metadata": {},
   "outputs": [],
   "source": [
    "import requests\n",
    "from bs4 import BeautifulSoup\n",
    "res = requests.get('http://www.cdc.gov.tw/diseaseinfo.aspx?treeid=8d54c504e820735b&nowtreeid=dec84a2f0c6fac5b&tid=77BFF3D4F9CB7982')\n",
    "soup = BeautifulSoup(res.text, 'html.parser')"
   ]
  },
  {
   "cell_type": "code",
   "execution_count": 19,
   "metadata": {},
   "outputs": [],
   "source": [
    "disease_dic = {}\n",
    "for in_p in soup.select('.in_p'):\n",
    "    h2 = in_p.select('h2')[0].text.strip().strip('：')\n",
    "    p =  in_p.select('p')[0].text.strip()\n",
    "    disease_dic[h2] = p\n"
   ]
  },
  {
   "cell_type": "code",
   "execution_count": 20,
   "metadata": {},
   "outputs": [
    {
     "data": {
      "text/plain": [
       "{'傳播方式': '臺灣主要傳播登革熱的病媒蚊為埃及斑蚊（Aedes aegypti）及白線斑蚊（Aedes albopictus），這些蚊子的特徵身體是黑色的，腳上有白斑。其中埃及斑蚊的胸部兩側具有一對似七弦琴的縱線及中間一對黃色的縱線，喜歡棲息於室內的人工容器，或是人為所造成積水的地方；白線斑蚊則是中胸楯板部位中間，有一條白色且明顯的縱紋，並比較喜歡棲息於室外。一天叮咬人的高峰期約在日出後的1-2小時及日落前的2-3小時，此時到戶外活動請做好自我保護措施。',\n",
       " '治療方法與就醫資訊': '由於目前沒有特效藥物可治療登革熱，所以感染登革熱的患者，一定要聽從醫師的囑咐，多休息、多喝水、適時服用退燒藥，通常在感染後兩週左右可自行痊癒。此外，對於登革熱重症病患應安排住院，適時的介入措施，提供完整嚴密及持續的照護，可將死亡率從20%以上降到1%以下。',\n",
       " '潛伏期': '典型登革熱的潛伏期約為3至8天(最長可達14天)。病人發病前一天至發病後5天的這段期間，稱為「可感染期」，或稱為「病毒血症期」，因病毒存在血液中，如果感染者在這個時期被斑蚊叮咬，那麼這隻斑蚊將感染登革病毒，病毒在蚊子體內經過8-12天的增殖，這隻斑蚊就具有終生傳染病毒的能力，當牠再叮咬其他人時，就會把體內的登革病毒傳染給另一個人。',\n",
       " '發病症狀': '每個人的體質不一樣，有些人感染登革熱時，症狀輕微，甚至不會出現生病症狀。而典型登革熱的症狀則是會有突發性的高燒（≧38℃），頭痛、後眼窩痛、肌肉痛、關節痛及出疹等現象；然而，若是先後感染不同型別之登革病毒，有更高機率導致較嚴重的臨床症狀，如果沒有及時就醫或治療，死亡率可以高達20%以上，所以民眾千萬不能掉以輕心！發病後的第3~5天，若病情突然加劇，如發生劇烈疼痛、抽搐、昏迷、意識狀況及血壓改變等，須注意是否進展為登革熱重症。',\n",
       " '預防接種建議': '',\n",
       " '預防方法': '登革熱是一種「社區病」、「環境病」，且病媒蚊對於叮咬對象並無選擇性，一旦有登革病毒進入社區，且生活周圍有病媒蚊孳生源的環境，就有登革熱流行的可能性，所以民眾平時應做好病媒蚊孳生源的清除工作。此外，民眾平時也應提高警覺，了解登革熱的症狀，除了發病時可及早就醫、早期診斷且適當治療，亦應同時避免再被病媒蚊叮咬，以減少登革病毒再傳播的可能。'}"
      ]
     },
     "execution_count": 20,
     "metadata": {},
     "output_type": "execute_result"
    }
   ],
   "source": [
    "disease_dic"
   ]
  },
  {
   "cell_type": "code",
   "execution_count": 21,
   "metadata": {
    "collapsed": true
   },
   "outputs": [],
   "source": [
    "import requests\n",
    "from bs4 import BeautifulSoup\n",
    "def getDiseaseDetail(url):\n",
    "    res = requests.get(url)\n",
    "    soup = BeautifulSoup(res.text, 'html.parser')\n",
    "    disease_dic = {}\n",
    "    for in_p in soup.select('.in_p'):\n",
    "        h2 = in_p.select('h2')[0].text.strip().strip('：')\n",
    "        p =  in_p.select('p')[0].text.strip()\n",
    "        disease_dic[h2] = p\n",
    "    return disease_dic"
   ]
  },
  {
   "cell_type": "code",
   "execution_count": 22,
   "metadata": {},
   "outputs": [
    {
     "data": {
      "text/plain": [
       "{'傳播方式': '腺鼠疫主要由被感染跳蚤（尤其是Xenopsylla cheopis印度鼠蚤）叮咬吸取人類血液或是人類處理被感染動物（尤其老鼠和家兔）或鼠疫感染者屍體的組織時，不慎接觸膿液而感染。肺鼠疫和咽鼠疫藉空氣散播，人類因吸入帶有致病原之飛沫（原發性肺鼠疫病人或已發展出末期鼠疫肺炎的腺鼠疫病人之飛沫）而感染。',\n",
       " '治療方法與就醫資訊': '及早使用抗生素治療鼠疫，可顯著降低致死率。當身體出現發燒、寒顫、頭痛、局部淋巴腺腫、虛脫及白血球增多等症狀，並有鼠疫流行地區旅遊史且曾接觸齧齒類動物或遭跳蚤叮咬時，請儘速就醫並主動告知醫師相關動物接觸史及旅遊史等訊息，以及早獲得妥適的治療。',\n",
       " '潛伏期': '通常為1～7天。原發性肺鼠疫為1～4天。',\n",
       " '發病症狀': '出現發燒、寒顫、頭痛、不適、虛脫及白血球增多，且伴隨下列一種（含）以上之主要臨床型態：',\n",
       " '預防接種建議': '死菌疫苗主動免疫可提供數月防護力，適用於高發病率地區的居民、旅客、處理鼠疫桿菌或被感染動物的實驗室人員或防疫人員，且須與其他防護方法一併使用。',\n",
       " '預防方法': '最主要為避免被跳蚤叮咬，直接接觸具感染性之組織及暴露於肺鼠疫病人活動地區。'}"
      ]
     },
     "execution_count": 22,
     "metadata": {},
     "output_type": "execute_result"
    }
   ],
   "source": [
    "getDiseaseDetail('http://www.cdc.gov.tw/diseaseinfo.aspx?treeid=8d54c504e820735b&nowtreeid=dec84a2f0c6fac5b&tid=8F87A67697D2278B')"
   ]
  },
  {
   "cell_type": "markdown",
   "metadata": {},
   "source": [
    "## 完成疾病資訊抓取"
   ]
  },
  {
   "cell_type": "code",
   "execution_count": 27,
   "metadata": {},
   "outputs": [
    {
     "name": "stdout",
     "output_type": "stream",
     "text": [
      "http://www.cdc.gov.tw/diseaseinfo.aspx?treeid=8d54c504e820735b&nowtreeid=dec84a2f0c6fac5b&tid=77BFF3D4F9CB7982\n",
      "http://www.cdc.gov.tw/diseaseinfo.aspx?treeid=8d54c504e820735b&nowtreeid=dec84a2f0c6fac5b&tid=59FB45DE0CD3F8A0\n",
      "http://www.cdc.gov.tw/diseaseinfo.aspx?treeid=8d54c504e820735b&nowtreeid=dec84a2f0c6fac5b&tid=AC308F5F5E7F4299\n",
      "http://www.cdc.gov.tw/diseaseinfo.aspx?treeid=8d54c504e820735b&nowtreeid=dec84a2f0c6fac5b&tid=CFB77829C7ABD761\n",
      "http://www.cdc.gov.tw/diseaseinfo.aspx?treeid=8d54c504e820735b&nowtreeid=dec84a2f0c6fac5b&tid=8F87A67697D2278B\n",
      "http://www.cdc.gov.tw/diseaseinfo.aspx?treeid=8d54c504e820735b&nowtreeid=dec84a2f0c6fac5b&tid=5976EE7146BF5A34\n",
      "http://www.cdc.gov.tw/diseaseinfo.aspx?treeid=8d54c504e820735b&nowtreeid=dec84a2f0c6fac5b&tid=1C7BF6D5F52F478C\n",
      "http://www.cdc.gov.tw/diseaseinfo.aspx?treeid=8d54c504e820735b&nowtreeid=dec84a2f0c6fac5b&tid=3C994A4FA28416FC\n",
      "http://www.cdc.gov.tw/diseaseinfo.aspx?treeid=8d54c504e820735b&nowtreeid=dec84a2f0c6fac5b&tid=778876767EA9B06C\n",
      "http://www.cdc.gov.tw/diseaseinfo.aspx?treeid=8d54c504e820735b&nowtreeid=dec84a2f0c6fac5b&tid=DED62714A07C973A\n",
      "http://www.cdc.gov.tw/diseaseinfo.aspx?treeid=8d54c504e820735b&nowtreeid=dec84a2f0c6fac5b&tid=39EEA2430F0D193B\n",
      "http://www.cdc.gov.tw/diseaseinfo.aspx?treeid=8d54c504e820735b&nowtreeid=dec84a2f0c6fac5b&tid=2560135C8787ACC9\n",
      "http://www.cdc.gov.tw/diseaseinfo.aspx?treeid=8d54c504e820735b&nowtreeid=dec84a2f0c6fac5b&tid=BF8212C8B091475E\n",
      "http://www.cdc.gov.tw/diseaseinfo.aspx?treeid=8d54c504e820735b&nowtreeid=dec84a2f0c6fac5b&tid=B3EFBE47CB5B528B\n",
      "http://www.cdc.gov.tw/diseaseinfo.aspx?treeid=8d54c504e820735b&nowtreeid=dec84a2f0c6fac5b&tid=DAB2C8BFA4E99546\n",
      "http://www.cdc.gov.tw/diseaseinfo.aspx?treeid=8d54c504e820735b&nowtreeid=dec84a2f0c6fac5b&tid=900059B505FD76DF\n",
      "http://www.cdc.gov.tw/diseaseinfo.aspx?treeid=8d54c504e820735b&nowtreeid=dec84a2f0c6fac5b&tid=49589DADC469AE67\n",
      "http://www.cdc.gov.tw/diseaseinfo.aspx?treeid=8d54c504e820735b&nowtreeid=dec84a2f0c6fac5b&tid=2463B5769DDC8E07\n",
      "http://www.cdc.gov.tw/diseaseinfo.aspx?treeid=8d54c504e820735b&nowtreeid=dec84a2f0c6fac5b&tid=86E7C9F4BE08D402\n",
      "http://www.cdc.gov.tw/diseaseinfo.aspx?treeid=8d54c504e820735b&nowtreeid=dec84a2f0c6fac5b&tid=D03CCE3DF521E46A\n",
      "http://www.cdc.gov.tw/diseaseinfo.aspx?treeid=8d54c504e820735b&nowtreeid=dec84a2f0c6fac5b&tid=0AC35BE524316F6E\n",
      "http://www.cdc.gov.tw/diseaseinfo.aspx?treeid=8d54c504e820735b&nowtreeid=dec84a2f0c6fac5b&tid=7D1D150DFB066004\n",
      "http://www.cdc.gov.tw/diseaseinfo.aspx?treeid=8d54c504e820735b&nowtreeid=dec84a2f0c6fac5b&tid=CD09974C1FE4B929\n",
      "http://www.cdc.gov.tw/diseaseinfo.aspx?treeid=8d54c504e820735b&nowtreeid=dec84a2f0c6fac5b&tid=A664CCFBD51288B0\n",
      "http://www.cdc.gov.tw/diseaseinfo.aspx?treeid=8d54c504e820735b&nowtreeid=dec84a2f0c6fac5b&tid=FC684A1C772115D7\n",
      "http://www.cdc.gov.tw/diseaseinfo.aspx?treeid=8d54c504e820735b&nowtreeid=dec84a2f0c6fac5b&tid=9FA12F779BF31729\n",
      "http://www.cdc.gov.tw/diseaseinfo.aspx?treeid=8d54c504e820735b&nowtreeid=dec84a2f0c6fac5b&tid=5848FEA154B21703\n",
      "http://www.cdc.gov.tw/diseaseinfo.aspx?treeid=8d54c504e820735b&nowtreeid=dec84a2f0c6fac5b&tid=1DB4C438EA3B1E76\n",
      "http://www.cdc.gov.tw/diseaseinfo.aspx?treeid=8d54c504e820735b&nowtreeid=dec84a2f0c6fac5b&tid=4775659102DE26C1\n",
      "http://www.cdc.gov.tw/diseaseinfo.aspx?treeid=8d54c504e820735b&nowtreeid=dec84a2f0c6fac5b&tid=2CF06E0F40B546B8\n",
      "http://www.cdc.gov.tw/diseaseinfo.aspx?treeid=8d54c504e820735b&nowtreeid=dec84a2f0c6fac5b&tid=16533556D6300F4F\n",
      "http://www.cdc.gov.tw/diseaseinfo.aspx?treeid=8d54c504e820735b&nowtreeid=dec84a2f0c6fac5b&tid=D4090DC3C44F755E\n",
      "http://www.cdc.gov.tw/diseaseinfo.aspx?treeid=8d54c504e820735b&nowtreeid=dec84a2f0c6fac5b&tid=40A13713A346C838\n",
      "http://www.cdc.gov.tw/diseaseinfo.aspx?treeid=8d54c504e820735b&nowtreeid=dec84a2f0c6fac5b&tid=109B9B14D881EED2\n",
      "http://www.cdc.gov.tw/diseaseinfo.aspx?treeid=8d54c504e820735b&nowtreeid=dec84a2f0c6fac5b&tid=A3088CE5CC1F6B14\n",
      "http://www.cdc.gov.tw/diseaseinfo.aspx?treeid=8d54c504e820735b&nowtreeid=dec84a2f0c6fac5b&tid=4E79822E96B2FFE9\n",
      "http://www.cdc.gov.tw/diseaseinfo.aspx?treeid=8d54c504e820735b&nowtreeid=dec84a2f0c6fac5b&tid=6AF06C6D63FBD8FE\n",
      "http://www.cdc.gov.tw/diseaseinfo.aspx?treeid=8d54c504e820735b&nowtreeid=dec84a2f0c6fac5b&tid=4C24959402FFB812\n",
      "http://www.cdc.gov.tw/diseaseinfo.aspx?treeid=8d54c504e820735b&nowtreeid=dec84a2f0c6fac5b&tid=9E2A51093406A2F4\n",
      "http://www.cdc.gov.tw/diseaseinfo.aspx?treeid=8d54c504e820735b&nowtreeid=dec84a2f0c6fac5b&tid=A6D83F837BA318BA\n",
      "http://www.cdc.gov.tw/diseaseinfo.aspx?treeid=8d54c504e820735b&nowtreeid=dec84a2f0c6fac5b&tid=6CB2EE526856976F\n",
      "http://www.cdc.gov.tw/diseaseinfo.aspx?treeid=8d54c504e820735b&nowtreeid=dec84a2f0c6fac5b&tid=30438A9E5363E7E0\n",
      "http://www.cdc.gov.tw/diseaseinfo.aspx?treeid=8d54c504e820735b&nowtreeid=dec84a2f0c6fac5b&tid=BAB48CF8772C3B05\n",
      "http://www.cdc.gov.tw/diseaseinfo.aspx?treeid=8d54c504e820735b&nowtreeid=dec84a2f0c6fac5b&tid=2204DE11B176D590\n",
      "http://www.cdc.gov.tw/diseaseinfo.aspx?treeid=8d54c504e820735b&nowtreeid=dec84a2f0c6fac5b&tid=3013B7FC8F965336\n",
      "http://www.cdc.gov.tw/diseaseinfo.aspx?treeid=8d54c504e820735b&nowtreeid=dec84a2f0c6fac5b&tid=1B5D2BF9B5B96C06\n",
      "http://www.cdc.gov.tw/diseaseinfo.aspx?treeid=8d54c504e820735b&nowtreeid=dec84a2f0c6fac5b&tid=3687AF99CCB7AABA\n",
      "http://www.cdc.gov.tw/diseaseinfo.aspx?treeid=8d54c504e820735b&nowtreeid=dec84a2f0c6fac5b&tid=EB2BECD7208073E4\n",
      "http://www.cdc.gov.tw/diseaseinfo.aspx?treeid=8d54c504e820735b&nowtreeid=dec84a2f0c6fac5b&tid=E496B051C5DB941B\n",
      "http://www.cdc.gov.tw/diseaseinfo.aspx?treeid=8d54c504e820735b&nowtreeid=dec84a2f0c6fac5b&tid=2E2B87449C3583AC\n",
      "http://www.cdc.gov.tw/diseaseinfo.aspx?treeid=8d54c504e820735b&nowtreeid=dec84a2f0c6fac5b&tid=166ADF19B748B86A\n",
      "http://www.cdc.gov.tw/diseaseinfo.aspx?treeid=8d54c504e820735b&nowtreeid=dec84a2f0c6fac5b&tid=7AE2FF6AD0360546\n",
      "http://www.cdc.gov.tw/diseaseinfo.aspx?treeid=8d54c504e820735b&nowtreeid=dec84a2f0c6fac5b&tid=BA1E4B695CF4C89F\n",
      "http://www.cdc.gov.tw/diseaseinfo.aspx?treeid=8d54c504e820735b&nowtreeid=dec84a2f0c6fac5b&tid=0FCA7A8669C8AC95\n",
      "http://www.cdc.gov.tw/diseaseinfo.aspx?treeid=8d54c504e820735b&nowtreeid=dec84a2f0c6fac5b&tid=8A5ED86E1F900BF2\n",
      "http://www.cdc.gov.tw/diseaseinfo.aspx?treeid=8d54c504e820735b&nowtreeid=dec84a2f0c6fac5b&tid=5D72E07679B5057C\n",
      "http://www.cdc.gov.tw/diseaseinfo.aspx?treeid=8d54c504e820735b&nowtreeid=dec84a2f0c6fac5b&tid=16CD29A279936655\n",
      "http://www.cdc.gov.tw/diseaseinfo.aspx?treeid=8d54c504e820735b&nowtreeid=dec84a2f0c6fac5b&tid=4B84885EB6795AC7\n",
      "http://www.cdc.gov.tw/diseaseinfo.aspx?treeid=8d54c504e820735b&nowtreeid=dec84a2f0c6fac5b&tid=3448E1B7E360BA50\n",
      "http://www.cdc.gov.tw/diseaseinfo.aspx?treeid=8d54c504e820735b&nowtreeid=dec84a2f0c6fac5b&tid=45328EDA04F7EB12\n",
      "http://www.cdc.gov.tw/diseaseinfo.aspx?treeid=8d54c504e820735b&nowtreeid=dec84a2f0c6fac5b&tid=67CCCCD371D8DD79\n",
      "http://www.cdc.gov.tw/diseaseinfo.aspx?treeid=8d54c504e820735b&nowtreeid=dec84a2f0c6fac5b&tid=91F0941F403EE107\n",
      "http://www.cdc.gov.tw/diseaseinfo.aspx?treeid=8d54c504e820735b&nowtreeid=dec84a2f0c6fac5b&tid=5EADA9389EF93DE4\n",
      "http://www.cdc.gov.tw/diseaseinfo.aspx?treeid=8d54c504e820735b&nowtreeid=dec84a2f0c6fac5b&tid=0D62EE0F6D4EBF8C\n",
      "http://www.cdc.gov.tw/diseaseinfo.aspx?treeid=8d54c504e820735b&nowtreeid=dec84a2f0c6fac5b&tid=A7AF893FD64D1AAB\n",
      "http://www.cdc.gov.tw/diseaseinfo.aspx?treeid=8d54c504e820735b&nowtreeid=dec84a2f0c6fac5b&tid=4F860B4BBF6BE67C\n",
      "http://www.cdc.gov.tw/diseaseinfo.aspx?treeid=8d54c504e820735b&nowtreeid=dec84a2f0c6fac5b&tid=BD8D809CEFD7C723\n",
      "http://www.cdc.gov.tw/diseaseinfo.aspx?treeid=8d54c504e820735b&nowtreeid=dec84a2f0c6fac5b&tid=5CA41646EE28F677\n",
      "http://www.cdc.gov.tw/diseaseinfo.aspx?treeid=8d54c504e820735b&nowtreeid=dec84a2f0c6fac5b&tid=D47D6C4244E0E715\n",
      "http://www.cdc.gov.tw/diseaseinfo.aspx?treeid=8d54c504e820735b&nowtreeid=dec84a2f0c6fac5b&tid=11498A962D46A726\n",
      "http://www.cdc.gov.tw/diseaseinfo.aspx?treeid=8d54c504e820735b&nowtreeid=dec84a2f0c6fac5b&tid=2FC8BD0F385B4B23\n",
      "http://www.cdc.gov.tw/diseaseinfo.aspx?treeid=8d54c504e820735b&nowtreeid=dec84a2f0c6fac5b&tid=9D2E1B3A862F06FB\n",
      "http://www.cdc.gov.tw/diseaseinfo.aspx?treeid=8d54c504e820735b&nowtreeid=dec84a2f0c6fac5b&tid=E6EF6B00003631B5\n",
      "http://www.cdc.gov.tw/diseaseinfo.aspx?treeid=8d54c504e820735b&nowtreeid=dec84a2f0c6fac5b&tid=C0883117AE98CBAC\n"
     ]
    },
    {
     "name": "stdout",
     "output_type": "stream",
     "text": [
      "http://www.cdc.gov.tw/diseaseinfo.aspx?treeid=8d54c504e820735b&nowtreeid=dec84a2f0c6fac5b&tid=110FA1639DEF7957\n",
      "http://www.cdc.gov.tw/diseaseinfo.aspx?treeid=8d54c504e820735b&nowtreeid=dec84a2f0c6fac5b&tid=37DAE22507FE1341\n",
      "http://www.cdc.gov.tw/diseaseinfo.aspx?treeid=8d54c504e820735b&nowtreeid=dec84a2f0c6fac5b&tid=B7A99E685C850D64\n",
      "http://www.cdc.gov.tw/diseaseinfo.aspx?treeid=8d54c504e820735b&nowtreeid=dec84a2f0c6fac5b&tid=4DC6CDD1D4B8972D\n",
      "http://www.cdc.gov.tw/diseaseinfo.aspx?treeid=8d54c504e820735b&nowtreeid=dec84a2f0c6fac5b&tid=4E9C3E6AC79BFB9D\n",
      "http://www.cdc.gov.tw/diseaseinfo.aspx?treeid=8d54c504e820735b&nowtreeid=dec84a2f0c6fac5b&tid=93A90D21A8A6D479\n",
      "http://www.cdc.gov.tw/diseaseinfo.aspx?treeid=8d54c504e820735b&nowtreeid=dec84a2f0c6fac5b&tid=9618DBD92CAD7F8F\n",
      "http://www.cdc.gov.tw/diseaseinfo.aspx?treeid=8d54c504e820735b&nowtreeid=dec84a2f0c6fac5b&tid=D40B2E6AC7484C3B\n",
      "http://www.cdc.gov.tw/diseaseinfo.aspx?treeid=8d54c504e820735b&nowtreeid=dec84a2f0c6fac5b&tid=F81306B23916A286\n",
      "http://www.cdc.gov.tw/diseaseinfo.aspx?treeid=8d54c504e820735b&nowtreeid=dec84a2f0c6fac5b&tid=7539A23334280253\n",
      "http://www.cdc.gov.tw/diseaseinfo.aspx?treeid=8d54c504e820735b&nowtreeid=dec84a2f0c6fac5b&tid=3D5FAA7DEE4D73DB\n",
      "http://www.cdc.gov.tw/diseaseinfo.aspx?treeid=8d54c504e820735b&nowtreeid=dec84a2f0c6fac5b&tid=D4B63062FD6D1963\n",
      "http://www.cdc.gov.tw/diseaseinfo.aspx?treeid=8d54c504e820735b&nowtreeid=dec84a2f0c6fac5b&tid=A1D7910CD9970140\n",
      "http://www.cdc.gov.tw/diseaseinfo.aspx?treeid=8d54c504e820735b&nowtreeid=dec84a2f0c6fac5b&tid=BF679E21AC3C45E0\n",
      "http://www.cdc.gov.tw/diseaseinfo.aspx?treeid=8d54c504e820735b&nowtreeid=dec84a2f0c6fac5b&tid=EF5AF2A9D2E6CC3A\n",
      "http://www.cdc.gov.tw/diseaseinfo.aspx?treeid=8d54c504e820735b&nowtreeid=dec84a2f0c6fac5b&tid=11F61CDA6C98C1D1\n",
      "http://www.cdc.gov.tw/diseaseinfo.aspx?treeid=8d54c504e820735b&nowtreeid=dec84a2f0c6fac5b&tid=D7A8974B83F1BF28\n",
      "http://www.cdc.gov.tw/diseaseinfo.aspx?treeid=8d54c504e820735b&nowtreeid=dec84a2f0c6fac5b&tid=62DDA453867679D2\n"
     ]
    }
   ],
   "source": [
    "import requests\n",
    "from bs4 import BeautifulSoup\n",
    "\n",
    "domain = 'http://www.cdc.gov.tw/'\n",
    "\n",
    "def getDiseaseDetail(url):\n",
    "    res = requests.get(url)\n",
    "    soup = BeautifulSoup(res.text, 'html.parser')\n",
    "    disease_dic = {}\n",
    "    print(url)\n",
    "    for in_p in soup.select('.in_p'):\n",
    "        if (len(in_p.select('h2')) > 0) and (len(in_p.select('p')) > 0 ):\n",
    "            h2 = in_p.select('h2')[0].text.strip().strip('：')\n",
    "            p =  in_p.select('p')[0].text.strip()\n",
    "            disease_dic[h2] = p\n",
    "    return disease_dic\n",
    "\n",
    "res = requests.get('http://www.cdc.gov.tw/disease.aspx?treeid=8d54c504e820735b&nowtreeid=dec84a2f0c6fac5b')\n",
    "soup = BeautifulSoup(res.text, 'html.parser')\n",
    "\n",
    "disease_info = []\n",
    "for li in soup.select('.list_content td'):\n",
    "    if len(li.select('a')) >0:\n",
    "        link = domain + li.select('a')[0]['href']\n",
    "        disease_info.append(getDiseaseDetail(link))\n",
    "        "
   ]
  },
  {
   "cell_type": "code",
   "execution_count": 29,
   "metadata": {
    "scrolled": true
   },
   "outputs": [
    {
     "data": {
      "text/html": [
       "<div>\n",
       "<style>\n",
       "    .dataframe thead tr:only-child th {\n",
       "        text-align: right;\n",
       "    }\n",
       "\n",
       "    .dataframe thead th {\n",
       "        text-align: left;\n",
       "    }\n",
       "\n",
       "    .dataframe tbody tr th {\n",
       "        vertical-align: top;\n",
       "    }\n",
       "</style>\n",
       "<table border=\"1\" class=\"dataframe\">\n",
       "  <thead>\n",
       "    <tr style=\"text-align: right;\">\n",
       "      <th></th>\n",
       "      <th>傳播方式</th>\n",
       "      <th>治療方法與就醫資訊</th>\n",
       "      <th>潛伏期</th>\n",
       "      <th>發病症狀</th>\n",
       "      <th>預防接種建議</th>\n",
       "      <th>預防方法</th>\n",
       "    </tr>\n",
       "  </thead>\n",
       "  <tbody>\n",
       "    <tr>\n",
       "      <th>0</th>\n",
       "      <td>臺灣主要傳播登革熱的病媒蚊為埃及斑蚊（Aedes aegypti）及白線斑蚊（Aedes a...</td>\n",
       "      <td>由於目前沒有特效藥物可治療登革熱，所以感染登革熱的患者，一定要聽從醫師的囑咐，多休息、多喝水...</td>\n",
       "      <td>典型登革熱的潛伏期約為3至8天(最長可達14天)。病人發病前一天至發病後5天的這段期間，稱為...</td>\n",
       "      <td>每個人的體質不一樣，有些人感染登革熱時，症狀輕微，甚至不會出現生病症狀。而典型登革熱的症狀則...</td>\n",
       "      <td></td>\n",
       "      <td>登革熱是一種「社區病」、「環境病」，且病媒蚊對於叮咬對象並無選擇性，一旦有登革病毒進入社區，...</td>\n",
       "    </tr>\n",
       "    <tr>\n",
       "      <th>1</th>\n",
       "      <td>屈公病是人被帶有屈公病毒的病媒蚊叮咬而感染，發病前2天至發病後5天間，病人血液中有病毒活動，...</td>\n",
       "      <td>目前沒有治療屈公病毒的藥物，主要是依病情給予支持性療法，感染屈公病患者應聽從醫師囑咐，多休息...</td>\n",
       "      <td>潛伏期2～12天，通常為3～7天。</td>\n",
       "      <td>感染屈公病主要的症狀包括突然發燒、關節疼痛或關節炎、頭痛、噁心、疲倦、肌肉疼痛，約半數的病患...</td>\n",
       "      <td>屈公病目前尚無可施打之疫苗，民眾應加強自身的防蚊措施，並積極清除積水容器，杜絕病媒蚊孳生才是...</td>\n",
       "      <td>屈公病是經由病媒蚊叮咬而傳播的急性傳染病，且病媒蚊對於叮咬對象並無選擇性，一旦有屈公病毒進入...</td>\n",
       "    </tr>\n",
       "    <tr>\n",
       "      <th>2</th>\n",
       "      <td>臺灣地區主要病媒蚊是矮小瘧蚊，當被感染且具傳染能力的瘧蚊叮咬人時，將瘧原蟲注入人體，導致感染...</td>\n",
       "      <td>因瘧原蟲潛伏期可能長達數月或數年之久，若曾至瘧疾流行地區旅遊，旅遊期間或旅遊後，出現間歇性發...</td>\n",
       "      <td>大多數人感染後，隨瘧原蟲種類不同而有差異，症狀可能於7天至30天內出現。感染惡性瘧原蟲的潛伏...</td>\n",
       "      <td>感染瘧疾早期的症狀與流感類似，最主要的症狀為發燒、畏寒及顫抖，接著冒冷汗。也可能出現其他症狀...</td>\n",
       "      <td>瘧疾疫苗目前正在研發中，尚未核准上市。</td>\n",
       "      <td>（一） 出國前請先了解瘧疾感染危險地區。世界衛生組織(WHO)公布，目前仍有91個國家為瘧疾...</td>\n",
       "    </tr>\n",
       "    <tr>\n",
       "      <th>3</th>\n",
       "      <td>日本腦炎是由病媒蚊傳播的疾病，人不會直接傳染給人。臺灣以三斑家蚊、環蚊家蚊及白頭家蚊為主要的...</td>\n",
       "      <td>目前沒有特效藥物可治療日本腦炎，採取支持性療法。</td>\n",
       "      <td>通常為5至15天。</td>\n",
       "      <td>感染日本腦炎病毒大部分無明顯症狀，約有小於1%的感染者會出現臨床症狀，最常見的臨床表現是急性腦炎。</td>\n",
       "      <td>一、臺灣自1960年代推動日本腦炎預防接種，使用的是以鼠腦製程之不活化日本腦炎疫苗（inac...</td>\n",
       "      <td>一、依規定時程接種日本腦炎疫苗。</td>\n",
       "    </tr>\n",
       "    <tr>\n",
       "      <th>4</th>\n",
       "      <td>腺鼠疫主要由被感染跳蚤（尤其是Xenopsylla cheopis印度鼠蚤）叮咬吸取人類血液...</td>\n",
       "      <td>及早使用抗生素治療鼠疫，可顯著降低致死率。當身體出現發燒、寒顫、頭痛、局部淋巴腺腫、虛脫及白...</td>\n",
       "      <td>通常為1～7天。原發性肺鼠疫為1～4天。</td>\n",
       "      <td>出現發燒、寒顫、頭痛、不適、虛脫及白血球增多，且伴隨下列一種（含）以上之主要臨床型態：</td>\n",
       "      <td>死菌疫苗主動免疫可提供數月防護力，適用於高發病率地區的居民、旅客、處理鼠疫桿菌或被感染動物的...</td>\n",
       "      <td>最主要為避免被跳蚤叮咬，直接接觸具感染性之組織及暴露於肺鼠疫病人活動地區。</td>\n",
       "    </tr>\n",
       "  </tbody>\n",
       "</table>\n",
       "</div>"
      ],
      "text/plain": [
       "                                                傳播方式  \\\n",
       "0  臺灣主要傳播登革熱的病媒蚊為埃及斑蚊（Aedes aegypti）及白線斑蚊（Aedes a...   \n",
       "1  屈公病是人被帶有屈公病毒的病媒蚊叮咬而感染，發病前2天至發病後5天間，病人血液中有病毒活動，...   \n",
       "2  臺灣地區主要病媒蚊是矮小瘧蚊，當被感染且具傳染能力的瘧蚊叮咬人時，將瘧原蟲注入人體，導致感染...   \n",
       "3  日本腦炎是由病媒蚊傳播的疾病，人不會直接傳染給人。臺灣以三斑家蚊、環蚊家蚊及白頭家蚊為主要的...   \n",
       "4  腺鼠疫主要由被感染跳蚤（尤其是Xenopsylla cheopis印度鼠蚤）叮咬吸取人類血液...   \n",
       "\n",
       "                                           治療方法與就醫資訊  \\\n",
       "0  由於目前沒有特效藥物可治療登革熱，所以感染登革熱的患者，一定要聽從醫師的囑咐，多休息、多喝水...   \n",
       "1  目前沒有治療屈公病毒的藥物，主要是依病情給予支持性療法，感染屈公病患者應聽從醫師囑咐，多休息...   \n",
       "2  因瘧原蟲潛伏期可能長達數月或數年之久，若曾至瘧疾流行地區旅遊，旅遊期間或旅遊後，出現間歇性發...   \n",
       "3                           目前沒有特效藥物可治療日本腦炎，採取支持性療法。   \n",
       "4  及早使用抗生素治療鼠疫，可顯著降低致死率。當身體出現發燒、寒顫、頭痛、局部淋巴腺腫、虛脫及白...   \n",
       "\n",
       "                                                 潛伏期  \\\n",
       "0  典型登革熱的潛伏期約為3至8天(最長可達14天)。病人發病前一天至發病後5天的這段期間，稱為...   \n",
       "1                                  潛伏期2～12天，通常為3～7天。   \n",
       "2  大多數人感染後，隨瘧原蟲種類不同而有差異，症狀可能於7天至30天內出現。感染惡性瘧原蟲的潛伏...   \n",
       "3                                          通常為5至15天。   \n",
       "4                               通常為1～7天。原發性肺鼠疫為1～4天。   \n",
       "\n",
       "                                                發病症狀  \\\n",
       "0  每個人的體質不一樣，有些人感染登革熱時，症狀輕微，甚至不會出現生病症狀。而典型登革熱的症狀則...   \n",
       "1  感染屈公病主要的症狀包括突然發燒、關節疼痛或關節炎、頭痛、噁心、疲倦、肌肉疼痛，約半數的病患...   \n",
       "2  感染瘧疾早期的症狀與流感類似，最主要的症狀為發燒、畏寒及顫抖，接著冒冷汗。也可能出現其他症狀...   \n",
       "3  感染日本腦炎病毒大部分無明顯症狀，約有小於1%的感染者會出現臨床症狀，最常見的臨床表現是急性腦炎。   \n",
       "4        出現發燒、寒顫、頭痛、不適、虛脫及白血球增多，且伴隨下列一種（含）以上之主要臨床型態：   \n",
       "\n",
       "                                              預防接種建議  \\\n",
       "0                                                      \n",
       "1  屈公病目前尚無可施打之疫苗，民眾應加強自身的防蚊措施，並積極清除積水容器，杜絕病媒蚊孳生才是...   \n",
       "2                                瘧疾疫苗目前正在研發中，尚未核准上市。   \n",
       "3  一、臺灣自1960年代推動日本腦炎預防接種，使用的是以鼠腦製程之不活化日本腦炎疫苗（inac...   \n",
       "4  死菌疫苗主動免疫可提供數月防護力，適用於高發病率地區的居民、旅客、處理鼠疫桿菌或被感染動物的...   \n",
       "\n",
       "                                                預防方法  \n",
       "0  登革熱是一種「社區病」、「環境病」，且病媒蚊對於叮咬對象並無選擇性，一旦有登革病毒進入社區，...  \n",
       "1  屈公病是經由病媒蚊叮咬而傳播的急性傳染病，且病媒蚊對於叮咬對象並無選擇性，一旦有屈公病毒進入...  \n",
       "2  （一） 出國前請先了解瘧疾感染危險地區。世界衛生組織(WHO)公布，目前仍有91個國家為瘧疾...  \n",
       "3                                   一、依規定時程接種日本腦炎疫苗。  \n",
       "4              最主要為避免被跳蚤叮咬，直接接觸具感染性之組織及暴露於肺鼠疫病人活動地區。  "
      ]
     },
     "execution_count": 29,
     "metadata": {},
     "output_type": "execute_result"
    }
   ],
   "source": [
    "import pandas\n",
    "disease_df = pandas.DataFrame(disease_info)\n",
    "disease_df.head()"
   ]
  },
  {
   "cell_type": "code",
   "execution_count": 31,
   "metadata": {},
   "outputs": [],
   "source": [
    "disease_df.to_excel('disease_info.xlsx')"
   ]
  },
  {
   "cell_type": "code",
   "execution_count": null,
   "metadata": {
    "collapsed": true
   },
   "outputs": [],
   "source": []
  }
 ],
 "metadata": {
  "kernelspec": {
   "display_name": "Python 3",
   "language": "python",
   "name": "python3"
  },
  "language_info": {
   "codemirror_mode": {
    "name": "ipython",
    "version": 3
   },
   "file_extension": ".py",
   "mimetype": "text/x-python",
   "name": "python",
   "nbconvert_exporter": "python",
   "pygments_lexer": "ipython3",
   "version": "3.6.1"
  }
 },
 "nbformat": 4,
 "nbformat_minor": 2
}
