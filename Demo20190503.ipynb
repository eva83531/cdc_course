{
 "cells": [
  {
   "cell_type": "markdown",
   "metadata": {},
   "source": [
    "## Python Basic"
   ]
  },
  {
   "cell_type": "code",
   "execution_count": 1,
   "metadata": {},
   "outputs": [
    {
     "data": {
      "text/plain": [
       "5"
      ]
     },
     "execution_count": 1,
     "metadata": {},
     "output_type": "execute_result"
    }
   ],
   "source": [
    "a = 3\n",
    "b = 2\n",
    "a + b"
   ]
  },
  {
   "cell_type": "code",
   "execution_count": 2,
   "metadata": {},
   "outputs": [
    {
     "data": {
      "text/plain": [
       "[1, 2, 3, 4]"
      ]
     },
     "execution_count": 2,
     "metadata": {},
     "output_type": "execute_result"
    }
   ],
   "source": [
    "a = [1,2,3]\n",
    "a.append(4)\n",
    "a"
   ]
  },
  {
   "cell_type": "code",
   "execution_count": 3,
   "metadata": {},
   "outputs": [
    {
     "data": {
      "text/plain": [
       "[1, 2, 3, 4, 5, 6]"
      ]
     },
     "execution_count": 3,
     "metadata": {},
     "output_type": "execute_result"
    }
   ],
   "source": [
    "a.extend([5,6])\n",
    "a"
   ]
  },
  {
   "cell_type": "code",
   "execution_count": 4,
   "metadata": {},
   "outputs": [
    {
     "data": {
      "text/plain": [
       "1"
      ]
     },
     "execution_count": 4,
     "metadata": {},
     "output_type": "execute_result"
    }
   ],
   "source": [
    "d = {'a':1, 'b':2, 'c':3}\n",
    "d['a']"
   ]
  },
  {
   "cell_type": "code",
   "execution_count": 5,
   "metadata": {},
   "outputs": [
    {
     "data": {
      "text/plain": [
       "3"
      ]
     },
     "execution_count": 5,
     "metadata": {},
     "output_type": "execute_result"
    }
   ],
   "source": [
    "d.get('c')"
   ]
  },
  {
   "cell_type": "code",
   "execution_count": 6,
   "metadata": {},
   "outputs": [
    {
     "data": {
      "text/plain": [
       "'default'"
      ]
     },
     "execution_count": 6,
     "metadata": {},
     "output_type": "execute_result"
    }
   ],
   "source": [
    "d.get('d', 'default')"
   ]
  },
  {
   "cell_type": "code",
   "execution_count": 7,
   "metadata": {},
   "outputs": [
    {
     "data": {
      "text/plain": [
       "1"
      ]
     },
     "execution_count": 7,
     "metadata": {},
     "output_type": "execute_result"
    }
   ],
   "source": [
    "t = (1,2,3)\n",
    "t[0]"
   ]
  },
  {
   "cell_type": "code",
   "execution_count": 8,
   "metadata": {},
   "outputs": [
    {
     "ename": "AttributeError",
     "evalue": "'tuple' object has no attribute 'append'",
     "output_type": "error",
     "traceback": [
      "\u001b[1;31m---------------------------------------------------------------------------\u001b[0m",
      "\u001b[1;31mAttributeError\u001b[0m                            Traceback (most recent call last)",
      "\u001b[1;32m<ipython-input-8-ada7ed8a579e>\u001b[0m in \u001b[0;36m<module>\u001b[1;34m()\u001b[0m\n\u001b[1;32m----> 1\u001b[1;33m \u001b[0mt\u001b[0m\u001b[1;33m.\u001b[0m\u001b[0mappend\u001b[0m\u001b[1;33m(\u001b[0m\u001b[1;36m4\u001b[0m\u001b[1;33m)\u001b[0m\u001b[1;33m\u001b[0m\u001b[0m\n\u001b[0m",
      "\u001b[1;31mAttributeError\u001b[0m: 'tuple' object has no attribute 'append'"
     ]
    }
   ],
   "source": [
    "t.append(4)"
   ]
  },
  {
   "cell_type": "markdown",
   "metadata": {},
   "source": [
    "## 如何利用Python 統計文章詞頻"
   ]
  },
  {
   "cell_type": "code",
   "execution_count": 78,
   "metadata": {},
   "outputs": [],
   "source": [
    "news = '''\n",
    "(CNN)California public health officials are warning moviegoers who went to see \"Avengers: Endgame\" and other films at an Orange County movie theater last Thursday that they may have been exposed to measles by a woman in the audience.\n",
    "\n",
    "The woman attended a midnight screening of the \"Avengers\" blockbuster at the AMC Dine-In Fullerton 20 on Thursday from 11 p.m. to 4 a.m, the Orange County Health Care Agency said.\n",
    "Mother of measles-stricken infant: Our community &#39;failed us&#39;\n",
    "Everyone who was in the building may have been exposed, not just at that particular screening room, the agency said.\n",
    "What you need to know about measles as the virus spreads across the country  \n",
    "The warning also applies to people who went to buildings at 5 Hutton Centre Drive in Santa Ana from last Wednesday through Friday.\n",
    "The woman, who is in her 20s, reported having recently traveled to a country with widespread measles activity, the agency added.\n",
    "Maureen McCormick is not happy with anti-vaxers using &#39;Brady Bunch&#39; clip for their cause \n",
    "The agency said the woman was considered infectious between April 23 and Wednesday and is under voluntary isolation at home in Placentia.\n",
    "It is the first confirmed measles case in the county this year.\n",
    "Measles is a highly contagious disease caused by a virus that can spread through the air when an infected person coughs or sneezes or if someone comes into direct contact or shares germs by touching the same objects or surfaces. Symptoms may include fever, cough, runny nose, watery eyes and a rash of red spots.\n",
    "Dr. Julia S. Sammons, a pediatric infectious disease specialist and medical director of the Department of Infection Prevention and Control at The Children's Hospital of Philadelphia, said once a person has measles, about 90% of close contacts who are susceptible to it will develop the disease.\n",
    "Follow CNN Health on Facebook and Twitter\n",
    "See the latest news and share your comments with CNN Health on Facebook and Twitter.\n",
    "\n",
    "Measles cases in the United States have surpassed the highest number on record since the disease was declared eliminated nationwide in 2000. Many of the cases have been in strongholds of vaccine-wary parents, swayed by anti-vax misinformation and distrust of authorities.\n",
    "There have been 38 reported cases of measles in 11 California counties, according to the website of the California Department of Public Health. A total of 14 cases have been people who traveled internationally.\n",
    "'''"
   ]
  },
  {
   "cell_type": "code",
   "execution_count": 79,
   "metadata": {},
   "outputs": [],
   "source": [
    "stopwords = [\"a\", \"about\", \"above\", \"above\", \"across\", \"after\", \"afterwards\", \"again\", \"against\", \"all\", \"almost\", \"alone\", \"along\", \"already\", \"also\",\"although\",\"always\",\"am\",\"among\", \"amongst\", \"amoungst\", \"amount\",  \"an\", \"and\", \"another\", \"any\",\"anyhow\",\"anyone\",\"anything\",\"anyway\", \"anywhere\", \"are\", \"around\", \"as\",  \"at\", \"back\",\"be\",\"became\", \"because\",\"become\",\"becomes\", \"becoming\", \"been\", \"before\", \"beforehand\", \"behind\", \"being\", \"below\", \"beside\", \"besides\", \"between\", \"beyond\", \"bill\", \"both\", \"bottom\",\"but\", \"by\", \"call\", \"can\", \"cannot\", \"cant\", \"co\", \"con\", \"could\", \"couldnt\", \"cry\", \"de\", \"describe\", \"detail\", \"do\", \"done\", \"down\", \"due\", \"during\", \"each\", \"eg\", \"eight\", \"either\", \"eleven\",\"else\", \"elsewhere\", \"empty\", \"enough\", \"etc\", \"even\", \"ever\", \"every\", \"everyone\", \"everything\", \"everywhere\", \"except\", \"few\", \"fifteen\", \"fify\", \"fill\", \"find\", \"fire\", \"first\", \"five\", \"for\", \"former\", \"formerly\", \"forty\", \"found\", \"four\", \"from\", \"front\", \"full\", \"further\", \"get\", \"give\", \"go\", \"had\", \"has\", \"hasnt\", \"have\", \"he\", \"hence\", \"her\", \"here\", \"hereafter\", \"hereby\", \"herein\", \"hereupon\", \"hers\", \"herself\", \"him\", \"himself\", \"his\", \"how\", \"however\", \"hundred\", \"ie\", \"if\", \"in\", \"inc\", \"indeed\", \"interest\", \"into\", \"is\", \"it\", \"its\", \"itself\", \"keep\", \"last\", \"latter\", \"latterly\", \"least\", \"less\", \"ltd\", \"made\", \"many\", \"may\", \"me\", \"meanwhile\", \"might\", \"mill\", \"mine\", \"more\", \"moreover\", \"most\", \"mostly\", \"move\", \"much\", \"must\", \"my\", \"myself\", \"name\", \"namely\", \"neither\", \"never\", \"nevertheless\", \"next\", \"nine\", \"no\", \"nobody\", \"none\", \"noone\", \"nor\", \"not\", \"nothing\", \"now\", \"nowhere\", \"of\", \"off\", \"often\", \"on\", \"once\", \"one\", \"only\", \"onto\", \"or\", \"other\", \"others\", \"otherwise\", \"our\", \"ours\", \"ourselves\", \"out\", \"over\", \"own\",\"part\", \"per\", \"perhaps\", \"please\", \"put\", \"rather\", \"re\", \"same\", \"see\", \"seem\", \"seemed\", \"seeming\", \"seems\", \"serious\", \"several\", \"she\", \"should\", \"show\", \"side\", \"since\", \"sincere\", \"six\", \"sixty\", \"so\", \"some\", \"somehow\", \"someone\", \"something\", \"sometime\", \"sometimes\", \"somewhere\", \"still\", \"such\", \"system\", \"take\", \"ten\", \"than\", \"that\", \"the\", \"their\", \"them\", \"themselves\", \"then\", \"thence\", \"there\", \"thereafter\", \"thereby\", \"therefore\", \"therein\", \"thereupon\", \"these\", \"they\", \"thick\", \"thin\", \"third\", \"this\", \"those\", \"though\", \"three\", \"through\", \"throughout\", \"thru\", \"thus\", \"to\", \"together\", \"too\", \"top\", \"toward\", \"towards\", \"twelve\", \"twenty\", \"two\", \"un\", \"under\", \"until\", \"up\", \"upon\", \"us\", \"very\", \"via\", \"was\", \"we\", \"well\", \"were\", \"what\", \"whatever\", \"when\", \"whence\", \"whenever\", \"where\", \"whereafter\", \"whereas\", \"whereby\", \"wherein\", \"whereupon\", \"wherever\", \"whether\", \"which\", \"while\", \"whither\", \"who\", \"whoever\", \"whole\", \"whom\", \"whose\", \"why\", \"will\", \"with\", \"within\", \"without\", \"would\", \"yet\", \"you\", \"your\", \"yours\", \"yourself\", \"yourselves\", \"the\"]"
   ]
  },
  {
   "cell_type": "code",
   "execution_count": 80,
   "metadata": {},
   "outputs": [
    {
     "name": "stdout",
     "output_type": "stream",
     "text": [
      "Help on built-in function split:\n",
      "\n",
      "split(...) method of builtins.str instance\n",
      "    S.split(sep=None, maxsplit=-1) -> list of strings\n",
      "    \n",
      "    Return a list of the words in S, using sep as the\n",
      "    delimiter string.  If maxsplit is given, at most maxsplit\n",
      "    splits are done. If sep is not specified or is None, any\n",
      "    whitespace string is a separator and empty strings are\n",
      "    removed from the result.\n",
      "\n"
     ]
    }
   ],
   "source": [
    "help(news.split)"
   ]
  },
  {
   "cell_type": "code",
   "execution_count": 81,
   "metadata": {},
   "outputs": [],
   "source": [
    "?news.split"
   ]
  },
  {
   "cell_type": "code",
   "execution_count": 82,
   "metadata": {},
   "outputs": [
    {
     "data": {
      "text/plain": [
       "list"
      ]
     },
     "execution_count": 82,
     "metadata": {},
     "output_type": "execute_result"
    }
   ],
   "source": [
    "words = news.split()\n",
    "type(words)"
   ]
  },
  {
   "cell_type": "code",
   "execution_count": 83,
   "metadata": {},
   "outputs": [
    {
     "name": "stdout",
     "output_type": "stream",
     "text": [
      "I cannot find e\n"
     ]
    }
   ],
   "source": [
    "d = {'a':1, 'b':2, 'c':3}\n",
    "#d['e']\n",
    "if d.get('e') is None:\n",
    "    print('I cannot find e')\n",
    "else:\n",
    "    print('I find e')"
   ]
  },
  {
   "cell_type": "code",
   "execution_count": 84,
   "metadata": {},
   "outputs": [
    {
     "name": "stdout",
     "output_type": "stream",
     "text": [
      "I cannot find e\n"
     ]
    }
   ],
   "source": [
    "#pythonic\n",
    "if d.get('e'):\n",
    "    print('I find e')\n",
    "else:\n",
    "    print('I cannot find e')"
   ]
  },
  {
   "cell_type": "code",
   "execution_count": 85,
   "metadata": {},
   "outputs": [],
   "source": [
    "#a = True\n",
    "#a = 1\n",
    "#a = None # not printing\n",
    "#a = False # not printing\n",
    "#a = [1,2,3]\n",
    "#a = []# not printing\n",
    "#a = {'a':1}\n",
    "a = {}# not printing\n",
    "if a:\n",
    "    print('TRUE')"
   ]
  },
  {
   "cell_type": "code",
   "execution_count": 86,
   "metadata": {},
   "outputs": [
    {
     "data": {
      "text/plain": [
       "True"
      ]
     },
     "execution_count": 86,
     "metadata": {},
     "output_type": "execute_result"
    }
   ],
   "source": [
    "li = ['a', 'b', 'c']\n",
    "#'d' in li\n",
    "'d' not in li"
   ]
  },
  {
   "cell_type": "markdown",
   "metadata": {},
   "source": [
    "### Method 1"
   ]
  },
  {
   "cell_type": "code",
   "execution_count": 87,
   "metadata": {},
   "outputs": [],
   "source": [
    "dic = {}\n",
    "for w in words:\n",
    "    #print(w)\n",
    "    w = w.lower()\n",
    "    if w not in stopwords:\n",
    "        # 如果w 不存在字典dic 中,我們將w加到字典dic, 並將值設為1\n",
    "        if not dic.get(w):\n",
    "            dic[w] = 1\n",
    "        # 如果w 存在字典dic 中,我們將w在字典dic中的值取出, 並加上1\n",
    "        else:\n",
    "            dic[w] = dic[w] + 1\n",
    "#dic"
   ]
  },
  {
   "cell_type": "code",
   "execution_count": 88,
   "metadata": {},
   "outputs": [],
   "source": [
    "?sorted"
   ]
  },
  {
   "cell_type": "code",
   "execution_count": 89,
   "metadata": {},
   "outputs": [
    {
     "data": {
      "text/plain": [
       "dict_items([('(cnn)california', 1), ('public', 2), ('health', 4), ('officials', 1), ('warning', 2), ('moviegoers', 1), ('went', 2), ('\"avengers:', 1), ('endgame\"', 1), ('films', 1), ('orange', 2), ('county', 3), ('movie', 1), ('theater', 1), ('thursday', 2), ('exposed', 1), ('measles', 7), ('woman', 3), ('audience.', 1), ('attended', 1), ('midnight', 1), ('screening', 2), ('\"avengers\"', 1), ('blockbuster', 1), ('amc', 1), ('dine-in', 1), ('fullerton', 1), ('20', 1), ('11', 2), ('p.m.', 1), ('4', 1), ('a.m,', 1), ('care', 1), ('agency', 4), ('said.', 2), ('mother', 1), ('measles-stricken', 1), ('infant:', 1), ('community', 1), ('&#39;failed', 1), ('us&#39;', 1), ('building', 1), ('exposed,', 1), ('just', 1), ('particular', 1), ('room,', 1), ('need', 1), ('know', 1), ('virus', 2), ('spreads', 1), ('country', 2), ('applies', 1), ('people', 2), ('buildings', 1), ('5', 1), ('hutton', 1), ('centre', 1), ('drive', 1), ('santa', 1), ('ana', 1), ('wednesday', 2), ('friday.', 1), ('woman,', 1), ('20s,', 1), ('reported', 2), ('having', 1), ('recently', 1), ('traveled', 2), ('widespread', 1), ('activity,', 1), ('added.', 1), ('maureen', 1), ('mccormick', 1), ('happy', 1), ('anti-vaxers', 1), ('using', 1), ('&#39;brady', 1), ('bunch&#39;', 1), ('clip', 1), ('cause', 1), ('said', 2), ('considered', 1), ('infectious', 2), ('april', 1), ('23', 1), ('voluntary', 1), ('isolation', 1), ('home', 1), ('placentia.', 1), ('confirmed', 1), ('case', 1), ('year.', 1), ('highly', 1), ('contagious', 1), ('disease', 3), ('caused', 1), ('spread', 1), ('air', 1), ('infected', 1), ('person', 2), ('coughs', 1), ('sneezes', 1), ('comes', 1), ('direct', 1), ('contact', 1), ('shares', 1), ('germs', 1), ('touching', 1), ('objects', 1), ('surfaces.', 1), ('symptoms', 1), ('include', 1), ('fever,', 1), ('cough,', 1), ('runny', 1), ('nose,', 1), ('watery', 1), ('eyes', 1), ('rash', 1), ('red', 1), ('spots.', 1), ('dr.', 1), ('julia', 1), ('s.', 1), ('sammons,', 1), ('pediatric', 1), ('specialist', 1), ('medical', 1), ('director', 1), ('department', 2), ('infection', 1), ('prevention', 1), ('control', 1), (\"children's\", 1), ('hospital', 1), ('philadelphia,', 1), ('measles,', 1), ('90%', 1), ('close', 1), ('contacts', 1), ('susceptible', 1), ('develop', 1), ('disease.', 1), ('follow', 1), ('cnn', 2), ('facebook', 2), ('twitter', 1), ('latest', 1), ('news', 1), ('share', 1), ('comments', 1), ('twitter.', 1), ('cases', 4), ('united', 1), ('states', 1), ('surpassed', 1), ('highest', 1), ('number', 1), ('record', 1), ('declared', 1), ('eliminated', 1), ('nationwide', 1), ('2000.', 1), ('strongholds', 1), ('vaccine-wary', 1), ('parents,', 1), ('swayed', 1), ('anti-vax', 1), ('misinformation', 1), ('distrust', 1), ('authorities.', 1), ('38', 1), ('california', 2), ('counties,', 1), ('according', 1), ('website', 1), ('health.', 1), ('total', 1), ('14', 1), ('internationally.', 1)])"
      ]
     },
     "execution_count": 89,
     "metadata": {},
     "output_type": "execute_result"
    }
   ],
   "source": [
    "dic.items()"
   ]
  },
  {
   "cell_type": "code",
   "execution_count": 90,
   "metadata": {},
   "outputs": [],
   "source": [
    "import operator\n",
    "swd = sorted(dic.items(), key=operator.itemgetter(1), reverse=True)"
   ]
  },
  {
   "cell_type": "code",
   "execution_count": 91,
   "metadata": {},
   "outputs": [
    {
     "data": {
      "text/plain": [
       "list"
      ]
     },
     "execution_count": 91,
     "metadata": {},
     "output_type": "execute_result"
    }
   ],
   "source": [
    "type(swd)"
   ]
  },
  {
   "cell_type": "code",
   "execution_count": 95,
   "metadata": {},
   "outputs": [],
   "source": [
    "#for rec in swd:\n",
    "#for k,v in swd:\n",
    "#    print(k,v)"
   ]
  },
  {
   "cell_type": "markdown",
   "metadata": {},
   "source": [
    "### Method 2"
   ]
  },
  {
   "cell_type": "code",
   "execution_count": 94,
   "metadata": {},
   "outputs": [],
   "source": [
    "import re\n",
    "words = re.split(':|\"| |\\(|\\)|\\.|;',news)\n",
    "dic = {}\n",
    "for w in words:\n",
    "    w = w.lower().strip()\n",
    "    if w not in stopwords and w:\n",
    "        if not dic.get(w):\n",
    "            dic[w] = 1\n",
    "        else:\n",
    "            dic[w] = dic[w] + 1\n",
    "swd = sorted(dic.items(), key=operator.itemgetter(1), reverse=True)\n",
    "#swd"
   ]
  },
  {
   "cell_type": "markdown",
   "metadata": {},
   "source": [
    "## High Performance Collection\n",
    "- https://docs.python.org/3.7/library/collections.html"
   ]
  },
  {
   "cell_type": "markdown",
   "metadata": {},
   "source": [
    "### Method 3"
   ]
  },
  {
   "cell_type": "code",
   "execution_count": 100,
   "metadata": {},
   "outputs": [],
   "source": [
    "import re\n",
    "words = re.split(':|\"| |\\(|\\)|\\.|;',news)\n",
    "ary = []\n",
    "for w in words:\n",
    "    w = w.lower().strip()\n",
    "    if w not in stopwords and w:\n",
    "        ary.append(w)"
   ]
  },
  {
   "cell_type": "code",
   "execution_count": 101,
   "metadata": {},
   "outputs": [
    {
     "data": {
      "text/plain": [
       "[('measles', 7),\n",
       " ('health', 5),\n",
       " ('agency', 4),\n",
       " ('said', 4),\n",
       " ('disease', 4),\n",
       " ('cases', 4),\n",
       " ('cnn', 3),\n",
       " ('california', 3),\n",
       " ('county', 3),\n",
       " ('woman', 3)]"
      ]
     },
     "execution_count": 101,
     "metadata": {},
     "output_type": "execute_result"
    }
   ],
   "source": [
    "from collections import Counter\n",
    "c = Counter(ary)\n",
    "c.most_common(10)"
   ]
  },
  {
   "cell_type": "markdown",
   "metadata": {},
   "source": [
    "### Method 4"
   ]
  },
  {
   "cell_type": "code",
   "execution_count": 104,
   "metadata": {},
   "outputs": [
    {
     "data": {
      "text/plain": [
       "[('measles', 7),\n",
       " ('health', 5),\n",
       " ('the', 5),\n",
       " ('agency', 4),\n",
       " ('said', 4),\n",
       " ('disease', 4),\n",
       " ('cases', 4),\n",
       " ('cnn', 3),\n",
       " ('california', 3),\n",
       " ('county', 3)]"
      ]
     },
     "execution_count": 104,
     "metadata": {},
     "output_type": "execute_result"
    }
   ],
   "source": [
    "import re\n",
    "c = Counter([w.lower().strip() for w in re.split(':|\"| |\\(|\\)|\\.|;',news)  if w not in stopwords and w])\n",
    "c.most_common(10)"
   ]
  },
  {
   "cell_type": "code",
   "execution_count": null,
   "metadata": {},
   "outputs": [],
   "source": []
  }
 ],
 "metadata": {
  "kernelspec": {
   "display_name": "Python 3",
   "language": "python",
   "name": "python3"
  },
  "language_info": {
   "codemirror_mode": {
    "name": "ipython",
    "version": 3
   },
   "file_extension": ".py",
   "mimetype": "text/x-python",
   "name": "python",
   "nbconvert_exporter": "python",
   "pygments_lexer": "ipython3",
   "version": "3.6.5"
  }
 },
 "nbformat": 4,
 "nbformat_minor": 2
}
