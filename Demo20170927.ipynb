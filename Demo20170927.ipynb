{
 "cells": [
  {
   "cell_type": "code",
   "execution_count": 1,
   "metadata": {
    "collapsed": false
   },
   "outputs": [
    {
     "data": {
      "text/plain": [
       "['this', 'is', 'a', 'book']"
      ]
     },
     "execution_count": 1,
     "metadata": {},
     "output_type": "execute_result"
    }
   ],
   "source": [
    "a = 'this is a book'\n",
    "a.split()"
   ]
  },
  {
   "cell_type": "markdown",
   "metadata": {},
   "source": [
    "## 安裝 Jieba\n",
    "- 在網路全部都通的情況下\n",
    "    - pip install jieba\n",
    "- 假設SSL 憑證無法讓你連到pypi 時\n",
    "    - pip install --index-url=http://pypi.python.org/simple/ --trusted-host pypi.python.org  jieba\n",
    "    \n",
    "- 假設沒有網路環境的時候\n",
    "    - 從 https://pypi.python.org/pypi/jieba/ 下載套件\n",
    "    - 解壓縮zip 檔\n",
    "    - python setup.py install\n",
    "    \n",
    "- 注意: 要重啟 kernel"
   ]
  },
  {
   "cell_type": "code",
   "execution_count": 3,
   "metadata": {
    "collapsed": false
   },
   "outputs": [
    {
     "name": "stdout",
     "output_type": "stream",
     "text": [
      "Collecting jieba\n",
      "  Downloading jieba-0.39.zip (7.3MB)\n",
      "Building wheels for collected packages: jieba\n",
      "  Running setup.py bdist_wheel for jieba: started\n",
      "  Running setup.py bdist_wheel for jieba: finished with status 'done'\n",
      "  Stored in directory: C:\\Users\\befun\\AppData\\Local\\pip\\Cache\\wheels\\ce\\32\\de\\c2be1db5f30804bc7f146ff698c52963f8aa11ba5049811b0d\n",
      "Successfully built jieba\n",
      "Installing collected packages: jieba\n",
      "Successfully installed jieba-0.39\n"
     ]
    }
   ],
   "source": [
    "! pip install --index-url=http://pypi.python.org/simple/ --trusted-host pypi.python.org  jieba"
   ]
  },
  {
   "cell_type": "code",
   "execution_count": 2,
   "metadata": {
    "collapsed": false
   },
   "outputs": [
    {
     "name": "stdout",
     "output_type": "stream",
     "text": [
      "女子\n",
      "遊\n",
      "越南\n",
      "感染\n",
      "登革熱\n",
      " \n",
      "住院\n",
      "7\n",
      "天\n",
      "過世\n"
     ]
    }
   ],
   "source": [
    "import jieba\n",
    "jieba.add_word('過世')\n",
    "a = '女子遊越南感染登革熱 住院7天過世'\n",
    "for w in jieba.cut(a):\n",
    "    print(w)"
   ]
  },
  {
   "cell_type": "code",
   "execution_count": 8,
   "metadata": {
    "collapsed": false
   },
   "outputs": [
    {
     "data": {
      "text/plain": [
       "['',\n",
       " '中央社記者陳偉婷台北25日電',\n",
       " '疾管署副署長羅一鈞今天說',\n",
       " '一名37歲女子到越南旅遊',\n",
       " '回國後發燒',\n",
       " '肌肉痛',\n",
       " '住院7天因敗血性休克等病症過世',\n",
       " '為今年登革熱境外移入死亡第2例',\n",
       " '民眾去東南亞一定要注意防蚊',\n",
       " '']"
      ]
     },
     "execution_count": 8,
     "metadata": {},
     "output_type": "execute_result"
    }
   ],
   "source": [
    "news = '（中央社記者陳偉婷台北25日電）疾管署副署長羅一鈞今天說，一名37歲女子到越南旅遊，回國後發燒、肌肉痛，住院7天因敗血性休克等病症過世；為今年登革熱境外移入死亡第2例，民眾去東南亞一定要注意防蚊。'\n",
    "\n",
    "import re\n",
    "re.split('、|；|，|）|（|。', news)"
   ]
  },
  {
   "cell_type": "code",
   "execution_count": 11,
   "metadata": {
    "collapsed": false
   },
   "outputs": [
    {
     "name": "stdout",
     "output_type": "stream",
     "text": [
      "大\n",
      "巨蛋\n",
      "案\n",
      "對\n",
      "市府\n",
      "同仁\n",
      "下\n",
      "封口\n",
      "封口令\n",
      "口令\n",
      "\n",
      "\n",
      "柯\n",
      "P\n",
      "否\n",
      "認\n"
     ]
    },
    {
     "data": {
      "text/plain": [
       "'大 巨蛋 案 對 市府 同仁 下 封口 封口令 口令   柯 P 否 認'"
      ]
     },
     "execution_count": 11,
     "metadata": {},
     "output_type": "execute_result"
    }
   ],
   "source": [
    "import jieba\n",
    "for w in jieba.cut('大巨蛋案對市府同仁下封口令？柯P否認', cut_all=True):\n",
    "    print(w)\n",
    "\n",
    "' '.join(jieba.cut('大巨蛋案對市府同仁下封口令？柯P否認', cut_all=True))"
   ]
  },
  {
   "cell_type": "code",
   "execution_count": 12,
   "metadata": {
    "collapsed": false
   },
   "outputs": [
    {
     "data": {
      "text/plain": [
       "'大 巨蛋 案對 市府 同仁 下 封口令 ？ 柯 P 否認'"
      ]
     },
     "execution_count": 12,
     "metadata": {},
     "output_type": "execute_result"
    }
   ],
   "source": [
    "' '.join(jieba.cut('大巨蛋案對市府同仁下封口令？柯P否認'))"
   ]
  },
  {
   "cell_type": "code",
   "execution_count": 16,
   "metadata": {
    "collapsed": true
   },
   "outputs": [],
   "source": [
    "jieba.load_userdict('localdict.txt')"
   ]
  },
  {
   "cell_type": "code",
   "execution_count": 17,
   "metadata": {
    "collapsed": false
   },
   "outputs": [
    {
     "data": {
      "text/plain": [
       "'大巨蛋 案對 市府 同仁 下 封口令 ？ 柯P 否認'"
      ]
     },
     "execution_count": 17,
     "metadata": {},
     "output_type": "execute_result"
    }
   ],
   "source": [
    "' '.join(jieba.cut('大巨蛋案對市府同仁下封口令？柯P否認'))"
   ]
  },
  {
   "cell_type": "code",
   "execution_count": 18,
   "metadata": {
    "collapsed": false
   },
   "outputs": [
    {
     "name": "stdout",
     "output_type": "stream",
     "text": [
      "大巨蛋 x\n",
      "案 ng\n",
      "對 p\n",
      "市府 n\n",
      "同仁 nr\n",
      "下 f\n",
      "封口令 n\n",
      "？ x\n",
      "柯P x\n",
      "否認 v\n"
     ]
    }
   ],
   "source": [
    "import jieba.posseg as pseg\n",
    "words=pseg.cut(\"大巨蛋案對市府同仁下封口令？柯P否認\")\n",
    "for w in words:\n",
    "    print(w.word,w.flag)"
   ]
  },
  {
   "cell_type": "code",
   "execution_count": 21,
   "metadata": {
    "collapsed": false
   },
   "outputs": [
    {
     "name": "stdout",
     "output_type": "stream",
     "text": [
      "疾管署\n",
      "監測\n",
      "資料\n",
      "顯示\n",
      "，\n",
      "國內\n",
      "上\n",
      "週\n",
      "新增\n",
      "4\n",
      "例登革熱\n",
      "境外\n",
      "移入\n",
      "病例\n",
      "及\n",
      "1\n",
      "例自\n",
      "越南\n",
      "移入\n",
      "病例\n",
      "死亡\n"
     ]
    }
   ],
   "source": [
    "import jieba\n",
    "#jieba.add_word('登革熱', 100 ,'nr')\n",
    "jieba.add_word('登革熱')\n",
    "jieba.del_word('登革熱')\n",
    "s = '疾管署監測資料顯示，國內上週新增4例登革熱境外移入病例及1例自越南移入病例死亡'\n",
    "for w in jieba.cut(s):\n",
    "    print(w)"
   ]
  },
  {
   "cell_type": "code",
   "execution_count": 22,
   "metadata": {
    "collapsed": false
   },
   "outputs": [
    {
     "name": "stdout",
     "output_type": "stream",
     "text": [
      "('疾管署', 0, 3)\n",
      "('監測', 3, 5)\n",
      "('資料', 5, 7)\n",
      "('顯示', 7, 9)\n",
      "('，', 9, 10)\n",
      "('國內', 10, 12)\n",
      "('上', 12, 13)\n",
      "('週', 13, 14)\n",
      "('新增', 14, 16)\n",
      "('4', 16, 17)\n",
      "('例登革熱', 17, 21)\n",
      "('境外', 21, 23)\n",
      "('移入', 23, 25)\n",
      "('病例', 25, 27)\n",
      "('及', 27, 28)\n",
      "('1', 28, 29)\n",
      "('例自', 29, 31)\n",
      "('越南', 31, 33)\n",
      "('移入', 33, 35)\n",
      "('病例', 35, 37)\n",
      "('死亡', 37, 39)\n"
     ]
    }
   ],
   "source": [
    "for w in jieba.tokenize(s):\n",
    "    print(w)"
   ]
  },
  {
   "cell_type": "code",
   "execution_count": 26,
   "metadata": {
    "collapsed": false
   },
   "outputs": [
    {
     "name": "stdout",
     "output_type": "stream",
     "text": [
      "那我\n",
      "我們\n",
      "們酸\n",
      "酸民\n",
      "民婉\n",
      "婉君\n",
      "君也\n",
      "也可\n",
      "可以\n",
      "以報\n",
      "報名\n",
      "名嗎\n"
     ]
    }
   ],
   "source": [
    "sentence = '那我們酸民婉君也可以報名嗎'\n",
    "for i in range(0, len(sentence) - 2 + 1):\n",
    "    print(sentence[i:i+2])"
   ]
  },
  {
   "cell_type": "code",
   "execution_count": 27,
   "metadata": {
    "collapsed": false
   },
   "outputs": [
    {
     "name": "stdout",
     "output_type": "stream",
     "text": [
      "那我們\n",
      "我們酸\n",
      "們酸民\n",
      "酸民婉\n",
      "民婉君\n",
      "婉君也\n",
      "君也可\n",
      "也可以\n",
      "可以報\n",
      "以報名\n",
      "報名嗎\n"
     ]
    }
   ],
   "source": [
    "sentence = '那我們酸民婉君也可以報名嗎'\n",
    "for i in range(0, len(sentence) - 3 + 1):\n",
    "    print(sentence[i:i+3])"
   ]
  },
  {
   "cell_type": "code",
   "execution_count": 30,
   "metadata": {
    "collapsed": false
   },
   "outputs": [
    {
     "name": "stdout",
     "output_type": "stream",
     "text": [
      "疾管\n",
      "管署\n",
      "署監\n",
      "監測\n",
      "測資\n",
      "資料\n",
      "料顯\n",
      "顯示\n",
      "示，\n",
      "，國\n",
      "國內\n",
      "內上\n",
      "上週\n",
      "週新\n",
      "新增\n",
      "增4\n",
      "4例\n",
      "例登\n",
      "登革\n",
      "革熱\n",
      "熱境\n",
      "境外\n",
      "外移\n",
      "移入\n",
      "入病\n",
      "病例\n",
      "例及\n",
      "及1\n",
      "1例\n",
      "例自\n",
      "自越\n",
      "越南\n",
      "南移\n",
      "移入\n",
      "入病\n",
      "病例\n",
      "例死\n",
      "死亡\n"
     ]
    }
   ],
   "source": [
    "s = '疾管署監測資料顯示，國內上週新增4例登革熱境外移入病例及1例自越南移入病例死亡'\n",
    "def ngram(article ,  n = 2):\n",
    "    for i in range(0, len(article) - n + 1):\n",
    "        print(article[i:i+n])\n",
    "ngram(s, 2)"
   ]
  },
  {
   "cell_type": "code",
   "execution_count": 31,
   "metadata": {
    "collapsed": false
   },
   "outputs": [
    {
     "data": {
      "text/plain": [
       "Counter({'a': 3, 'b': 2, 'c': 1})"
      ]
     },
     "execution_count": 31,
     "metadata": {},
     "output_type": "execute_result"
    }
   ],
   "source": [
    "a = ['a', 'b', 'a', 'c', 'a', 'b']\n",
    "from collections import Counter\n",
    "c = Counter(a)\n",
    "c"
   ]
  },
  {
   "cell_type": "code",
   "execution_count": 36,
   "metadata": {
    "collapsed": false
   },
   "outputs": [
    {
     "data": {
      "text/plain": [
       "[('移入病', 2), ('入病例', 2), ('疾管署', 1), ('管署監', 1), ('署監測', 1)]"
      ]
     },
     "execution_count": 36,
     "metadata": {},
     "output_type": "execute_result"
    }
   ],
   "source": [
    "def ngram(article ,  n = 2):\n",
    "    words = []\n",
    "    for i in range(0, len(article) - n + 1):\n",
    "        words.append(article[i:i+n])\n",
    "    return words\n",
    "\n",
    "res = ngram(s, 3)\n",
    "\n",
    "from collections import Counter\n",
    "c = Counter(res)\n",
    "c.most_common(5)"
   ]
  },
  {
   "cell_type": "code",
   "execution_count": 46,
   "metadata": {
    "collapsed": false
   },
   "outputs": [
    {
     "data": {
      "text/plain": [
       "['衛生福利部疾病管制署長周志浩今天在記者會中表示',\n",
       " '近期登革熱境外移入病例數增加',\n",
       " '國內登革熱疑似病例通報數呈上升趨勢',\n",
       " '且正值登革熱流行期',\n",
       " '民眾必須格外小心提防',\n",
       " '落實',\n",
       " '巡',\n",
       " '倒',\n",
       " '清',\n",
       " '刷',\n",
       " '的防蚊步驟',\n",
       " '']"
      ]
     },
     "execution_count": 46,
     "metadata": {},
     "output_type": "execute_result"
    }
   ],
   "source": [
    "text='衛生福利部疾病管制署長周志浩今天在記者會中表示，近期登革熱境外移入病例數增加，國內登革熱疑似病例通報數呈上升趨勢，且正值登革熱流行期，民眾必須格外小心提防，落實「巡、倒、清、刷」的防蚊步驟。'\n",
    "delimiter = '，|、|「|」|。'\n",
    "import re\n",
    "re.split(delimiter, text)"
   ]
  },
  {
   "cell_type": "code",
   "execution_count": 47,
   "metadata": {
    "collapsed": false
   },
   "outputs": [
    {
     "data": {
      "text/plain": [
       "'國內疑似病例通報數呈上升趨勢'"
      ]
     },
     "execution_count": 47,
     "metadata": {},
     "output_type": "execute_result"
    }
   ],
   "source": [
    "a='國內登革熱疑似病例通報數呈上升趨勢'\n",
    "a.replace('登革熱', '')"
   ]
  },
  {
   "cell_type": "code",
   "execution_count": 51,
   "metadata": {
    "collapsed": false
   },
   "outputs": [
    {
     "data": {
      "text/plain": [
       "'國內疑似病例通報數呈上升趨勢'"
      ]
     },
     "execution_count": 51,
     "metadata": {},
     "output_type": "execute_result"
    }
   ],
   "source": [
    "a\n",
    "''.join(a.split('登革熱'))"
   ]
  },
  {
   "cell_type": "code",
   "execution_count": 53,
   "metadata": {
    "collapsed": false
   },
   "outputs": [
    {
     "data": {
      "text/plain": [
       "'國內疑似通報數呈上升趨勢'"
      ]
     },
     "execution_count": 53,
     "metadata": {},
     "output_type": "execute_result"
    }
   ],
   "source": [
    "def removeKey(text, keyword):\n",
    "    for key in keyword:\n",
    "        text = text.replace(key,'')\n",
    "    return text\n",
    "\n",
    "def removeKey2(text, keyword):\n",
    "    for key in keyword:\n",
    "        text = ''.join(text.split(key))\n",
    "    return text\n",
    "\n",
    "a='國內登革熱疑似病例通報數呈上升趨勢'\n",
    "removeKey(a, ['登革熱', '病例'])\n",
    "\n",
    "removeKey2(a, ['登革熱', '病例'])"
   ]
  },
  {
   "cell_type": "markdown",
   "metadata": {},
   "source": [
    "## 實做長詞優先法"
   ]
  },
  {
   "cell_type": "code",
   "execution_count": null,
   "metadata": {
    "collapsed": true
   },
   "outputs": [],
   "source": [
    "text='衛生福利部疾病管制署長周志浩今天在記者會中表示，近期登革熱境外移入病例數增加，國內登革熱疑似病例通報數呈上升趨勢，且正值登革熱流行期，民眾必須格外小心提防，落實「巡、倒、清、刷」的防蚊步驟。'"
   ]
  },
  {
   "cell_type": "code",
   "execution_count": 58,
   "metadata": {
    "collapsed": true
   },
   "outputs": [],
   "source": [
    "def ngram(sentence, n = 2):\n",
    "    words = []\n",
    "    for i in range(0, len(sentence) - n + 1):\n",
    "        words.append(sentence[i:i+n])\n",
    "    return words"
   ]
  },
  {
   "cell_type": "code",
   "execution_count": null,
   "metadata": {
    "collapsed": true
   },
   "outputs": [],
   "source": [
    "def removeKey(text, keyword):\n",
    "    for key in keyword:\n",
    "        text = text.replace(key,'')\n",
    "    return text"
   ]
  },
  {
   "cell_type": "code",
   "execution_count": 59,
   "metadata": {
    "collapsed": true
   },
   "outputs": [],
   "source": [
    "import re\n",
    "delimiter = '，|、|「|」|。'\n",
    "sentence_ary = re.split(delimiter, text)"
   ]
  },
  {
   "cell_type": "code",
   "execution_count": 63,
   "metadata": {
    "collapsed": true
   },
   "outputs": [],
   "source": [
    "keywords = ['疾管署']\n",
    "terms    = []\n",
    "for sentence in sentence_ary:\n",
    "    sentence = removeKey(sentence, keywords)\n",
    "    terms.extend(ngram(sentence, 2))\n",
    "#print(terms)"
   ]
  },
  {
   "cell_type": "code",
   "execution_count": 67,
   "metadata": {
    "collapsed": true
   },
   "outputs": [],
   "source": [
    "from collections import Counter\n",
    "threshold = 3\n",
    "c = Counter(terms)\n",
    "for word, cnt in c.items():\n",
    "    if cnt >= threshold:\n",
    "        keywords.append(word)"
   ]
  },
  {
   "cell_type": "markdown",
   "metadata": {},
   "source": [
    "## 長詞優先法(完整版)"
   ]
  },
  {
   "cell_type": "code",
   "execution_count": 82,
   "metadata": {
    "collapsed": true
   },
   "outputs": [],
   "source": [
    "text='''\n",
    "（中央社記者陳偉婷台北25日電）疾管署副署長羅一鈞今天說，一名37歲女子到越南旅遊，回國後發燒、肌肉痛，住院7天因敗血性休克等病症過世；為今年登革熱境外移入死亡第2例，民眾去東南亞一定要注意防蚊。\n",
    "\n",
    "衛生福利部疾病管制署長周志浩今天在記者會中表示，近期登革熱境外移入病例數增加，國內登革熱疑似病例通報數呈上升趨勢，且正值登革熱流行期，民眾必須格外小心提防，落實「巡、倒、清、刷」的防蚊步驟。\n",
    "\n",
    "疾管署監測資料顯示，國內上週（9月18日至9月24日）新增4例登革熱境外移入病例及1例自越南移入病例死亡，近1個月境外移入個案感染國家以越南為多，今年截至9月24日累計229例境外移入病例（含2例死亡），本土病例3例。\n",
    "\n",
    "根據疾管署網站資料，一般感染登革熱者，若聽醫師囑咐，多休息、多喝水、適時服用退燒藥，通常在感染後兩週左右可自行痊癒，但若是先後感染不同型別的登革病毒，有更高機率導致較嚴重的臨床症狀，如果沒有及時就醫或治療，死亡率可以高達20%以上。\n",
    "\n",
    "羅一鈞說，最近一例境外移入死亡個案是比較少見的年輕人感染卻致死狀況。這名北部的37歲女性8月時到北越遊玩，8月31日回國，9月6日出現發燒、肌肉痠痛、關節痛等症狀，當天就住院，但仍不幸在住院7天因敗血性休克等病症過世。\n",
    "\n",
    "羅一鈞表示，這名患者過去沒有感染登革熱紀錄，且沒有慢性病，卻因登革病毒致死，推測可能是她感染的第一型登革病毒比較凶猛，加上年輕人的免疫反應有時候比較強，病毒入侵後引發大量的免疫系統激素反應，旺盛的免疫激素有可能破壞器官組織。\n",
    "\n",
    "這名個案的狀況較為少見，不過，羅一鈞說，登革熱仍有致命風險，仍須提醒民眾，正值國慶連假的旅遊旺季，如果民眾要去東南亞，因當地氣溫偏高，登革熱正流行，民眾遊玩一定要做好防蚊措施。\n",
    "\n",
    "回國後如有發燒、頭痛、後眼窩痛、肌肉關節痛、出疹等症狀，應儘速就醫，並主動告知近期旅遊活動史，以利及早診斷及通報\n",
    "'''\n",
    "keywords = []\n",
    "threshold = 5"
   ]
  },
  {
   "cell_type": "code",
   "execution_count": 83,
   "metadata": {
    "collapsed": true
   },
   "outputs": [],
   "source": [
    "delimiter = '，|、|「|」|。'\n",
    "sentence_ary = re.split(delimiter, text)\n",
    "\n",
    "for k in range(4,1,-1):\n",
    "    # 產生n-gram 詞\n",
    "    terms    = []\n",
    "    for sentence in sentence_ary:\n",
    "        sentence = removeKey(sentence, keywords)\n",
    "        terms.extend(ngram(sentence, k))\n",
    "        \n",
    "    # 統計n-gram, 將超過一定次數(閥值)的資料取出\n",
    "    c = Counter(terms)\n",
    "    for word, cnt in c.items():\n",
    "        if cnt >= threshold:\n",
    "            keywords.append(word)"
   ]
  },
  {
   "cell_type": "code",
   "execution_count": 84,
   "metadata": {
    "collapsed": false
   },
   "outputs": [
    {
     "data": {
      "text/plain": [
       "['境外移入', '登革熱', '死亡', '民眾', '\\n\\n', '病例', '感染']"
      ]
     },
     "execution_count": 84,
     "metadata": {},
     "output_type": "execute_result"
    }
   ],
   "source": [
    "keywords"
   ]
  },
  {
   "cell_type": "markdown",
   "metadata": {},
   "source": [
    "## 長詞優先法(超級完整版)"
   ]
  },
  {
   "cell_type": "code",
   "execution_count": 113,
   "metadata": {
    "collapsed": true
   },
   "outputs": [],
   "source": [
    "import re\n",
    "from collections import Counter\n",
    "\n",
    "def ngram(sentence, n = 2):\n",
    "    words = []\n",
    "    for i in range(0, len(sentence) - n + 1):\n",
    "        words.append(sentence[i:i+n])\n",
    "    return words\n",
    "\n",
    "def removeKey(text, keyword):\n",
    "    for key in keyword:\n",
    "        text = text.replace(key,'')\n",
    "    return text\n",
    "\n",
    "def longTermFirst(article, keywords, threshold):\n",
    "    delimiter = '，|、|「|」|。|\\n'\n",
    "    sentence_ary = re.split(delimiter, article)\n",
    "\n",
    "    for k in range(4,1,-1):\n",
    "        # 產生n-gram 詞\n",
    "        terms    = []\n",
    "        for sentence in sentence_ary:\n",
    "            sentence = removeKey(sentence, keywords)\n",
    "            terms.extend(ngram(sentence, k))\n",
    "\n",
    "        # 統計n-gram, 將超過一定次數(閥值)的資料取出\n",
    "        c = Counter(terms)\n",
    "        for word, cnt in c.items():\n",
    "            if cnt >= threshold:\n",
    "                keywords.append(word)\n",
    "                \n",
    "    # 回傳關鍵字詞\n",
    "    return keywords"
   ]
  },
  {
   "cell_type": "code",
   "execution_count": 123,
   "metadata": {
    "collapsed": true
   },
   "outputs": [],
   "source": [
    "article = '''\n",
    "時序雖然進入秋天，但還是處在登革熱高峰期，民眾千萬別輕忽自家積水容器！桶、缸、盆、甕為積水大宗物件，緊接著是各式底盤類及杯瓶碗罐盒類，其他馬桶、帆布、水箱等等也都是孑孓生長「熱區」，家中的這些物品需要多加留意，別老盯著手機快去巡一巡，確保沒有孑孓在這些角落裏頭游泳吧！\n",
    "\n",
    "高雄市環保局呼籲，雖然已來到9月中下旬即將進入秋季，但依照過去數年經驗顯示，登革熱疫情高峰均約為每年7~11月，對於登革熱疫情仍不可輕忽，需持續加強清除居住環境週遭積水容器，環保局同時也提醒民眾如被發現登革熱病媒蚊孑孓，均依廢棄物清理法舉發，裁處金額為新臺幣1,500~6,000元整，若再次發現，將提高罰鍰，請民眾須妥善管理環境，落實環境「巡、倒、清、刷」，遠離登革熱，需民眾與政府一同努力。\n",
    "\n",
    "造成登革熱傳染主要因子為登革熱病毒及斑蚊，其中斑蚊密度與陽性容器具有密不可分之關係，依環保局分析106年近3個月(截至9月15日為止)之陽性容器態樣，發現最常見積水容器態樣為桶、缸、盆、甕類，其次為各式底盤類，以及杯瓶碗罐盒類。其中桶、缸、盆、甕類佔積水容器約47%，而各式底盤類及杯瓶碗罐盒類佔約11%，其他則為馬桶、帆布、水箱等等；而在桶、缸、盆、甕類發現病媒蚊孑孓則佔最大宗，因此請民眾仍須加強清除居家環境週遭積水容器，以避免病媒蚊孳生。\n",
    "\n",
    "此外，於進行孳生源巡檢時，菜園空地及廢棄輪胎內發現重大孳生源亦為數不少；菜園空地內常發現民眾利用容器儲水習慣或遭丟棄空瓶空罐，因菜園空地使用人或所有人疏於管理，導致儲水容器或空瓶空罐產生積水致孳生病媒蚊孑孓；另外廢棄輪胎常被民眾拿來當作防護之用，惟輪胎內溝積水不易排出，常孳生病媒蚊孑孓，民眾也要多加留意。'''\n",
    "keywords = []\n",
    "threshold = 5"
   ]
  },
  {
   "cell_type": "code",
   "execution_count": 126,
   "metadata": {
    "collapsed": false
   },
   "outputs": [
    {
     "data": {
      "text/plain": [
       "['積水容器', '登革熱', '病媒蚊', '民眾', '孑孓', '發現', '孳生']"
      ]
     },
     "execution_count": 126,
     "metadata": {},
     "output_type": "execute_result"
    }
   ],
   "source": [
    "important_words = longTermFirst(article, keywords, threshold)\n",
    "important_words"
   ]
  },
  {
   "cell_type": "code",
   "execution_count": 128,
   "metadata": {
    "collapsed": true
   },
   "outputs": [],
   "source": [
    "with open('localdict.txt', 'a', encoding = 'UTF-8') as f:\n",
    "    for word in important_words:\n",
    "        f.write('{} {} {}\\n'.format(word, 100, 'n'))"
   ]
  },
  {
   "cell_type": "markdown",
   "metadata": {},
   "source": [
    "## 使用網路爬蟲擴增字典"
   ]
  },
  {
   "cell_type": "code",
   "execution_count": 132,
   "metadata": {
    "collapsed": false
   },
   "outputs": [
    {
     "name": "stdout",
     "output_type": "stream",
     "text": [
      "台灣\n",
      "杜特蒂\n",
      "毒品\n",
      "竹聯幫\n",
      "菲律賓\n"
     ]
    }
   ],
   "source": [
    "import requests\n",
    "from bs4 import BeautifulSoup\n",
    "res = requests.get('http://news.ltn.com.tw/news/world/breakingnews/2205755')\n",
    "soup = BeautifulSoup(res.text, 'html.parser')\n",
    "for keywords in soup.select('.keyword a'):\n",
    "    print(keywords.text)"
   ]
  },
  {
   "cell_type": "code",
   "execution_count": 150,
   "metadata": {
    "collapsed": false
   },
   "outputs": [
    {
     "name": "stderr",
     "output_type": "stream",
     "text": [
      "C:\\ProgramData\\Anaconda3\\lib\\site-packages\\requests\\packages\\urllib3\\connectionpool.py:852: InsecureRequestWarning: Unverified HTTPS request is being made. Adding certificate verification is strongly advised. See: https://urllib3.readthedocs.io/en/latest/advanced-usage.html#ssl-warnings\n",
      "  InsecureRequestWarning)\n"
     ]
    },
    {
     "name": "stdout",
     "output_type": "stream",
     "text": [
      "美國總統\n",
      "現任\n",
      "政策立場\n",
      "國際訪問\n",
      "2016年美國總統選舉\n",
      "俄羅斯爭議\n",
      "唐納·約翰·川普\n"
     ]
    }
   ],
   "source": [
    "import requests\n",
    "from bs4 import BeautifulSoup\n",
    "res = requests.get('https://zh.wikipedia.org/zh-tw/唐納·川普', verify=False)\n",
    "soup = BeautifulSoup(res.text, 'html.parser')\n",
    "for word in soup.select('#mw-content-text p b'):\n",
    "    print(word.text)"
   ]
  },
  {
   "cell_type": "code",
   "execution_count": 139,
   "metadata": {
    "collapsed": false
   },
   "outputs": [
    {
     "name": "stderr",
     "output_type": "stream",
     "text": [
      "C:\\ProgramData\\Anaconda3\\lib\\site-packages\\requests\\packages\\urllib3\\connectionpool.py:852: InsecureRequestWarning: Unverified HTTPS request is being made. Adding certificate verification is strongly advised. See: https://urllib3.readthedocs.io/en/latest/advanced-usage.html#ssl-warnings\n",
      "  InsecureRequestWarning)\n"
     ]
    },
    {
     "name": "stdout",
     "output_type": "stream",
     "text": [
      "登革热\n",
      "骨痛热症\n",
      "断骨热\n",
      "天狗热\n"
     ]
    }
   ],
   "source": [
    "import requests\n",
    "from bs4 import BeautifulSoup\n",
    "res = requests.get('https://zh.wikipedia.org/zh-cn/%E9%AA%A8%E7%97%9B%E7%86%B1%E7%97%87', verify=False)\n",
    "soup = BeautifulSoup(res.text, 'html.parser')\n",
    "for word in soup.select('p')[0].select('b'):\n",
    "    print(word.text)"
   ]
  },
  {
   "cell_type": "markdown",
   "metadata": {},
   "source": [
    "## 同義詞產生器"
   ]
  },
  {
   "cell_type": "code",
   "execution_count": 174,
   "metadata": {
    "collapsed": false,
    "scrolled": true
   },
   "outputs": [
    {
     "name": "stderr",
     "output_type": "stream",
     "text": [
      "C:\\ProgramData\\Anaconda3\\lib\\site-packages\\requests\\packages\\urllib3\\connectionpool.py:852: InsecureRequestWarning: Unverified HTTPS request is being made. Adding certificate verification is strongly advised. See: https://urllib3.readthedocs.io/en/latest/advanced-usage.html#ssl-warnings\n",
      "  InsecureRequestWarning)\n",
      "C:\\ProgramData\\Anaconda3\\lib\\site-packages\\requests\\packages\\urllib3\\connectionpool.py:852: InsecureRequestWarning: Unverified HTTPS request is being made. Adding certificate verification is strongly advised. See: https://urllib3.readthedocs.io/en/latest/advanced-usage.html#ssl-warnings\n",
      "  InsecureRequestWarning)\n"
     ]
    },
    {
     "data": {
      "text/plain": [
       "['瘧疾', '打擺子', '冷熱病', '發瘧子']"
      ]
     },
     "execution_count": 174,
     "metadata": {},
     "output_type": "execute_result"
    }
   ],
   "source": [
    "import requests\n",
    "from bs4 import BeautifulSoup\n",
    "\n",
    "wiki = 'https://zh.wikipedia.org/{}/{}'\n",
    "def getSynonym(word):\n",
    "    synonym = []\n",
    "    res = requests.get('https://zh.wikipedia.org/zh-tw/{}'.format(word), verify=False, allow_redirects=True)\n",
    "    soup = BeautifulSoup(res.text, 'html.parser')\n",
    "    for word in soup.select('#mw-content-text p')[0].select('b'):\n",
    "        synonym.append(word.text)\n",
    "    res = requests.get('https://zh.wikipedia.org/zh-cn/{}'.format(word), verify=False, allow_redirects=True)\n",
    "    soup = BeautifulSoup(res.text, 'html.parser')\n",
    "    for word in soup.select('#mw-content-text p')[0].select('b'):\n",
    "        synonym.append(word.text)\n",
    "    return synonym\n",
    "\n",
    "getSynonym('疟疾')"
   ]
  },
  {
   "cell_type": "code",
   "execution_count": 187,
   "metadata": {
    "collapsed": false
   },
   "outputs": [
    {
     "name": "stderr",
     "output_type": "stream",
     "text": [
      "C:\\ProgramData\\Anaconda3\\lib\\site-packages\\requests\\packages\\urllib3\\connectionpool.py:852: InsecureRequestWarning: Unverified HTTPS request is being made. Adding certificate verification is strongly advised. See: https://urllib3.readthedocs.io/en/latest/advanced-usage.html#ssl-warnings\n",
      "  InsecureRequestWarning)\n"
     ]
    }
   ],
   "source": [
    "import requests\n",
    "from bs4 import BeautifulSoup\n",
    "from urllib.parse import unquote\n",
    "res = requests.get('https://zh.wikipedia.org/zh-tw/%E7%96%9F%E7%96%BE', verify=False)\n",
    "soup = BeautifulSoup(res.text, 'html.parser')\n",
    "translations = []\n",
    "for entry in soup.select('.interlanguage-link'):\n",
    "    dic = {}\n",
    "    dic['link']  = entry.select('a')[0]['href']\n",
    "    dic['title'] = entry.select('a')[0]['title']\n",
    "    dic['lang']  = entry.select('a')[0]['lang']\n",
    "    dic['alias'] = entry.select('a')[0].text\n",
    "    dic['name']  = unquote(dic['link'].split('/')[-1])\n",
    "    translations.append(dic)"
   ]
  },
  {
   "cell_type": "code",
   "execution_count": 204,
   "metadata": {
    "collapsed": true
   },
   "outputs": [],
   "source": [
    "import pandas\n",
    "df = pandas.DataFrame(translations)\n",
    "df = df[df['lang'].isin(['ko', 'ja', 'th', 'id', 'vi', 'hi'])]\n",
    "#df.to_csv('translations.csv', encoding='utf-8-sig')\n",
    "df.to_excel('translations.xlsx')"
   ]
  },
  {
   "cell_type": "code",
   "execution_count": 200,
   "metadata": {
    "collapsed": false
   },
   "outputs": [
    {
     "data": {
      "text/html": [
       "<div>\n",
       "<style>\n",
       "    .dataframe thead tr:only-child th {\n",
       "        text-align: right;\n",
       "    }\n",
       "\n",
       "    .dataframe thead th {\n",
       "        text-align: left;\n",
       "    }\n",
       "\n",
       "    .dataframe tbody tr th {\n",
       "        vertical-align: top;\n",
       "    }\n",
       "</style>\n",
       "<table border=\"1\" class=\"dataframe\">\n",
       "  <thead>\n",
       "    <tr style=\"text-align: right;\">\n",
       "      <th></th>\n",
       "      <th>alias</th>\n",
       "      <th>lang</th>\n",
       "      <th>link</th>\n",
       "      <th>name</th>\n",
       "      <th>title</th>\n",
       "    </tr>\n",
       "  </thead>\n",
       "  <tbody>\n",
       "    <tr>\n",
       "      <th>48</th>\n",
       "      <td>हिन्दी</td>\n",
       "      <td>hi</td>\n",
       "      <td>https://hi.wikipedia.org/wiki/%E0%A4%AE%E0%A4%...</td>\n",
       "      <td>मलेरिया</td>\n",
       "      <td>मलेरिया – 印地文</td>\n",
       "    </tr>\n",
       "    <tr>\n",
       "      <th>54</th>\n",
       "      <td>Bahasa Indonesia</td>\n",
       "      <td>id</td>\n",
       "      <td>https://id.wikipedia.org/wiki/Malaria</td>\n",
       "      <td>Malaria</td>\n",
       "      <td>Malaria – 印尼文</td>\n",
       "    </tr>\n",
       "  </tbody>\n",
       "</table>\n",
       "</div>"
      ],
      "text/plain": [
       "               alias lang                                               link  \\\n",
       "48            हिन्दी   hi  https://hi.wikipedia.org/wiki/%E0%A4%AE%E0%A4%...   \n",
       "54  Bahasa Indonesia   id              https://id.wikipedia.org/wiki/Malaria   \n",
       "\n",
       "       name          title  \n",
       "48  मलेरिया  मलेरिया – 印地文  \n",
       "54  Malaria  Malaria – 印尼文  "
      ]
     },
     "execution_count": 200,
     "metadata": {},
     "output_type": "execute_result"
    }
   ],
   "source": [
    "\n",
    "df[df.title.str.contains('印')]\n"
   ]
  },
  {
   "cell_type": "code",
   "execution_count": 186,
   "metadata": {
    "collapsed": false
   },
   "outputs": [
    {
     "data": {
      "text/plain": [
       "'ملاريا'"
      ]
     },
     "execution_count": 186,
     "metadata": {},
     "output_type": "execute_result"
    }
   ],
   "source": [
    "from urllib.parse import unquote\n",
    "unquote('%D9%85%D9%84%D8%A7%D8%B1%D9%8A%D8%A7')"
   ]
  },
  {
   "cell_type": "markdown",
   "metadata": {},
   "source": [
    "## Google Translate"
   ]
  },
  {
   "cell_type": "code",
   "execution_count": 218,
   "metadata": {
    "collapsed": false
   },
   "outputs": [
    {
     "name": "stderr",
     "output_type": "stream",
     "text": [
      "C:\\ProgramData\\Anaconda3\\lib\\site-packages\\requests\\packages\\urllib3\\connectionpool.py:852: InsecureRequestWarning: Unverified HTTPS request is being made. Adding certificate verification is strongly advised. See: https://urllib3.readthedocs.io/en/latest/advanced-usage.html#ssl-warnings\n",
      "  InsecureRequestWarning)\n"
     ]
    },
    {
     "data": {
      "text/plain": [
       "{'data': {'translations': [{'detectedSourceLanguage': 'vi',\n",
       "    'translatedText': '瘧疾也被稱為墮落，是一種由稱為瘧原蟲的寄生蟲引起的疾病，由於被蚊子咬傷而被人傳播。該病在美洲，亞洲和非洲的熱帶和亞熱帶地區普遍存在。每年約有5.15億人感染，其中一百三百萬人死亡，其中大多數是南部非洲和撒哈拉以南非洲的兒童。 90％的死亡發生在這裡。[5]瘧疾往往伴隨著貧困落後，是經濟發展的重大障礙。'}]}}"
      ]
     },
     "execution_count": 218,
     "metadata": {},
     "output_type": "execute_result"
    }
   ],
   "source": [
    "import requests\n",
    "payload = {\n",
    "  'q': ['Sốt rét còn gọi là ngã nước là một chứng bệnh gây ra bởi ký sinh trùng tên Plasmodium[2] , lây truyền từ người này sang người khác khi những người này bị muỗi đốt. Bệnh phổ biến ở các khu vực nhiệt đới và cận nhiệt đới của châu Mỹ, châu Á và châu Phi. Mỗi năm có khoảng 515 triệu người mắc bệnh, từ 1 đến 3 triệu người tử vong - đa số là trẻ em ở khu vực phía nam sa mạc Sahara, châu Phi. 90% số ca tử vong xảy ra tại đây.[5] Sốt rét thường đi kèm với đói nghèo, lạc hậu,[6] và là một cản trở lớn đối với phát triển kinh tế.'],\n",
    "  'target': 'zh-tw',\n",
    "\n",
    "}   \n",
    "key = '<key>'\n",
    "res = requests.post('https://translation.googleapis.com/language/translate/v2?key={}'.format(key), verify=False, data = payload)\n",
    "res.json()"
   ]
  },
  {
   "cell_type": "markdown",
   "metadata": {},
   "source": [
    "## 各國翻譯詞查找程式 - 完整版"
   ]
  },
  {
   "cell_type": "code",
   "execution_count": 223,
   "metadata": {
    "collapsed": true
   },
   "outputs": [],
   "source": [
    "import requests\n",
    "from bs4 import BeautifulSoup\n",
    "from urllib.parse import unquote\n",
    "import pandas\n",
    "\n",
    "language = ['ko', 'ja', 'th', 'id', 'vi', 'hi']\n",
    "def getTranslation(word, language):\n",
    "    res = requests.get('https://zh.wikipedia.org/zh-tw/{}'.format(word), verify=False)\n",
    "    soup = BeautifulSoup(res.text, 'html.parser')\n",
    "    translations = []\n",
    "    for entry in soup.select('.interlanguage-link'):\n",
    "        dic = {}\n",
    "        dic['link']  = entry.select('a')[0]['href']\n",
    "        dic['title'] = entry.select('a')[0]['title']\n",
    "        dic['lang']  = entry.select('a')[0]['lang']\n",
    "        dic['alias'] = entry.select('a')[0].text\n",
    "        dic['name']  = unquote(dic['link'].split('/')[-1])\n",
    "        translations.append(dic)\n",
    "\n",
    "    df = pandas.DataFrame(translations)\n",
    "    df = df[df['lang'].isin(language)]\n",
    "    df.to_excel('{}_translate.xlsx'.format(word))"
   ]
  },
  {
   "cell_type": "code",
   "execution_count": 224,
   "metadata": {
    "collapsed": false
   },
   "outputs": [
    {
     "name": "stderr",
     "output_type": "stream",
     "text": [
      "C:\\ProgramData\\Anaconda3\\lib\\site-packages\\requests\\packages\\urllib3\\connectionpool.py:852: InsecureRequestWarning: Unverified HTTPS request is being made. Adding certificate verification is strongly advised. See: https://urllib3.readthedocs.io/en/latest/advanced-usage.html#ssl-warnings\n",
      "  InsecureRequestWarning)\n"
     ]
    }
   ],
   "source": [
    "language = ['ko', 'ja', 'th', 'id', 'vi', 'hi']\n",
    "getTranslation('登革熱', language)"
   ]
  },
  {
   "cell_type": "markdown",
   "metadata": {},
   "source": [
    "## 取得文字詞頻"
   ]
  },
  {
   "cell_type": "code",
   "execution_count": 225,
   "metadata": {
    "collapsed": true
   },
   "outputs": [],
   "source": [
    "article = '''\n",
    "東南亞地區登革熱仍處流行期，疾病管制署監測，上周新增9例登革熱境外移入病例，近期感染國家以越南最多，提醒民眾與醫師務必提高警覺；另近日持續有陣雨，該署也呼籲民眾要持續清除室內外積水容器，以免孳生病媒蚊。\n",
    "疾管署副署長羅一鈞表示，上周新增9例登革熱境外移入病例，分別是越南4例、泰國2例，馬來西亞、緬甸及印度各1例，但通報數已連續3周下降，今年累計至上周止共有210例境外移入病例。\n",
    "在本土疫情方面，今年僅3例本土登革熱病例，相較於往年疫情較和緩。羅一鈞說，推估是因2至3年前南部地區登革熱大流行，社區民眾防蚊意識提高，地方政府也謹慎督促，展現防疫成效。\n",
    "羅一鈞表示，大多數的登革熱會自行痊癒，不會有嚴重症狀，但少數民眾可能重複感染，會導致登革出血熱，或者患有慢性病、65歲以上長者，都是登革熱中症的高危險群。\n",
    "疾管署表示，越南、泰國、寮國、柬埔寨等國家的登革熱疫情，都處在上升或達高點，要格外注意防蚊；若在當地或返國途中出現發燒、後眼窩痛等症狀，返國後要盡快就醫，並告知旅遊史，協助醫師診斷。（江慧珺／台北報導）\n",
    "'''"
   ]
  },
  {
   "cell_type": "code",
   "execution_count": 230,
   "metadata": {
    "collapsed": true
   },
   "outputs": [],
   "source": [
    "import jieba\n",
    "jieba.load_userdict('localdict.txt')\n",
    "# method 1\n",
    "words = []\n",
    "for w in jieba.cut(article):\n",
    "    words.append(w)\n",
    "words\n",
    "\n",
    "# method 2\n",
    "words = [w for w in jieba.cut(article)]"
   ]
  },
  {
   "cell_type": "code",
   "execution_count": 235,
   "metadata": {
    "collapsed": true
   },
   "outputs": [],
   "source": [
    "# method 1\n",
    "dic = {}\n",
    "for w in jieba.cut(article):\n",
    "    if w not in dic:\n",
    "        dic[w] = 1\n",
    "    else:\n",
    "        dic[w] = dic[w] + 1\n",
    "\n",
    "import operator\n",
    "swd = sorted(dic.items(), key=operator.itemgetter(1), reverse=True)"
   ]
  },
  {
   "cell_type": "code",
   "execution_count": 239,
   "metadata": {
    "collapsed": false
   },
   "outputs": [
    {
     "data": {
      "text/plain": [
       "[('，', 29),\n",
       " ('登革熱', 8),\n",
       " ('例', 7),\n",
       " ('、', 7),\n",
       " ('\\n', 6),\n",
       " ('。', 6),\n",
       " ('病例', 4),\n",
       " ('民眾', 4),\n",
       " ('上周', 3),\n",
       " ('境外', 3)]"
      ]
     },
     "execution_count": 239,
     "metadata": {},
     "output_type": "execute_result"
    }
   ],
   "source": [
    "from collections import Counter\n",
    "words = [w for w in jieba.cut(article)]\n",
    "c = Counter(words)\n",
    "c.most_common(10)"
   ]
  },
  {
   "cell_type": "code",
   "execution_count": 250,
   "metadata": {
    "collapsed": true
   },
   "outputs": [],
   "source": [
    "import re\n",
    "import pandas\n",
    "common_terms = []\n",
    "for k, v in c.most_common(100):\n",
    "    if len(k) >= 2 and re.match('[\\u4E00-\\u9FA5]+', k):\n",
    "        #print(k,v)\n",
    "        common_terms.append({'keyword': k, 'count': v})"
   ]
  },
  {
   "cell_type": "code",
   "execution_count": 252,
   "metadata": {
    "collapsed": true
   },
   "outputs": [],
   "source": [
    "df = pandas.DataFrame(common_terms)\n"
   ]
  },
  {
   "cell_type": "code",
   "execution_count": 254,
   "metadata": {
    "collapsed": false
   },
   "outputs": [
    {
     "name": "stdout",
     "output_type": "stream",
     "text": [
      "Populating the interactive namespace from numpy and matplotlib\n"
     ]
    },
    {
     "name": "stderr",
     "output_type": "stream",
     "text": [
      "C:\\ProgramData\\Anaconda3\\lib\\site-packages\\IPython\\core\\magics\\pylab.py:161: UserWarning: pylab import has clobbered these variables: ['text', 'f']\n",
      "`%matplotlib` prevents importing * from pylab and numpy\n",
      "  \"\\n`%matplotlib` prevents importing * from pylab and numpy\"\n"
     ]
    },
    {
     "data": {
      "text/plain": [
       "<matplotlib.axes._subplots.AxesSubplot at 0x16000b38>"
      ]
     },
     "execution_count": 254,
     "metadata": {},
     "output_type": "execute_result"
    },
    {
     "data": {
      "image/png": "[encoded data removed]",
      "text/plain": [
       "<matplotlib.figure.Figure at 0x15f0b908>"
      ]
     },
     "metadata": {},
     "output_type": "display_data"
    }
   ],
   "source": [
    "%pylab inline\n",
    "df.plot(kind = 'bar')"
   ]
  },
  {
   "cell_type": "markdown",
   "metadata": {},
   "source": [
    "## 抓取 Google 新聞"
   ]
  },
  {
   "cell_type": "code",
   "execution_count": 264,
   "metadata": {
    "collapsed": true
   },
   "outputs": [],
   "source": [
    "import requests\n",
    "from bs4 import BeautifulSoup\n",
    "phrase = 'デング熱'\n",
    "res = requests.get('https://news.google.com/news/rss/search/section/q/{}/{}?hl=zh-TW&ned=tw'.format(phrase, phrase))\n",
    "soup = BeautifulSoup(res.text, 'lxml')"
   ]
  },
  {
   "cell_type": "code",
   "execution_count": 278,
   "metadata": {
    "collapsed": true
   },
   "outputs": [],
   "source": [
    "news = []\n",
    "for item in soup.select('item'):\n",
    "    dic = {}\n",
    "    #print(item)\n",
    "    dic['title'] = item.select('title')[0].text\n",
    "    #dic['link'] = item.select('link')[0].text\n",
    "    dic['pubdate'] = item.select('pubdate')[0].text\n",
    "    dic['description'] = item.select('description')[0].text\n",
    "    dic['category'] = item.select('category')[0].text\n",
    "    news.append(dic)"
   ]
  },
  {
   "cell_type": "code",
   "execution_count": 280,
   "metadata": {
    "collapsed": false
   },
   "outputs": [
    {
     "data": {
      "text/html": [
       "<div>\n",
       "<style>\n",
       "    .dataframe thead tr:only-child th {\n",
       "        text-align: right;\n",
       "    }\n",
       "\n",
       "    .dataframe thead th {\n",
       "        text-align: left;\n",
       "    }\n",
       "\n",
       "    .dataframe tbody tr th {\n",
       "        vertical-align: top;\n",
       "    }\n",
       "</style>\n",
       "<table border=\"1\" class=\"dataframe\">\n",
       "  <thead>\n",
       "    <tr style=\"text-align: right;\">\n",
       "      <th></th>\n",
       "      <th>category</th>\n",
       "      <th>description</th>\n",
       "      <th>pubdate</th>\n",
       "      <th>title</th>\n",
       "    </tr>\n",
       "  </thead>\n",
       "  <tbody>\n",
       "    <tr>\n",
       "      <th>0</th>\n",
       "      <td>デング熱</td>\n",
       "      <td>&lt;table border=\"0\" cellpadding=\"2\" cellspacing=...</td>\n",
       "      <td>Tue, 19 Sep 2017 21:23:08 GMT</td>\n",
       "      <td>デング熱はいつ再流行してもおかしくない 研究者が明かす「蚊の厄介な吸血行動」</td>\n",
       "    </tr>\n",
       "    <tr>\n",
       "      <th>1</th>\n",
       "      <td>デング熱</td>\n",
       "      <td>&lt;table border=\"0\" cellpadding=\"2\" cellspacing=...</td>\n",
       "      <td>Thu, 21 Sep 2017 06:40:52 GMT</td>\n",
       "      <td>デング熱による死者はハノイが最多、狂犬病は全国56例</td>\n",
       "    </tr>\n",
       "    <tr>\n",
       "      <th>2</th>\n",
       "      <td>デング熱</td>\n",
       "      <td>&lt;table border=\"0\" cellpadding=\"2\" cellspacing=...</td>\n",
       "      <td>Wed, 20 Sep 2017 02:10:09 GMT</td>\n",
       "      <td>2014年に東京でパニックとなったデング熱 騒動沈静もいつ再流行するか分からない状況</td>\n",
       "    </tr>\n",
       "    <tr>\n",
       "      <th>3</th>\n",
       "      <td>デング熱</td>\n",
       "      <td>&lt;table border=\"0\" cellpadding=\"2\" cellspacing=...</td>\n",
       "      <td>Mon, 25 Sep 2017 10:15:52 GMT</td>\n",
       "      <td>海外医療通信2017年9月号【東京医科大学病院 渡航者医療センター】</td>\n",
       "    </tr>\n",
       "    <tr>\n",
       "      <th>4</th>\n",
       "      <td>デング熱</td>\n",
       "      <td>&lt;table border=\"0\" cellpadding=\"2\" cellspacing=...</td>\n",
       "      <td>Wed, 20 Sep 2017 15:10:10 GMT</td>\n",
       "      <td>デング熱、降雨増で感染拡大＝先週は４人死亡</td>\n",
       "    </tr>\n",
       "  </tbody>\n",
       "</table>\n",
       "</div>"
      ],
      "text/plain": [
       "  category                                        description  \\\n",
       "0     デング熱  <table border=\"0\" cellpadding=\"2\" cellspacing=...   \n",
       "1     デング熱  <table border=\"0\" cellpadding=\"2\" cellspacing=...   \n",
       "2     デング熱  <table border=\"0\" cellpadding=\"2\" cellspacing=...   \n",
       "3     デング熱  <table border=\"0\" cellpadding=\"2\" cellspacing=...   \n",
       "4     デング熱  <table border=\"0\" cellpadding=\"2\" cellspacing=...   \n",
       "\n",
       "                         pubdate                                       title  \n",
       "0  Tue, 19 Sep 2017 21:23:08 GMT      デング熱はいつ再流行してもおかしくない 研究者が明かす「蚊の厄介な吸血行動」  \n",
       "1  Thu, 21 Sep 2017 06:40:52 GMT                  デング熱による死者はハノイが最多、狂犬病は全国56例  \n",
       "2  Wed, 20 Sep 2017 02:10:09 GMT  2014年に東京でパニックとなったデング熱 騒動沈静もいつ再流行するか分からない状況  \n",
       "3  Mon, 25 Sep 2017 10:15:52 GMT          海外医療通信2017年9月号【東京医科大学病院 渡航者医療センター】  \n",
       "4  Wed, 20 Sep 2017 15:10:10 GMT                       デング熱、降雨増で感染拡大＝先週は４人死亡  "
      ]
     },
     "execution_count": 280,
     "metadata": {},
     "output_type": "execute_result"
    }
   ],
   "source": [
    "df = pandas.DataFrame(news)\n",
    "df.head()"
   ]
  },
  {
   "cell_type": "code",
   "execution_count": 296,
   "metadata": {
    "collapsed": true
   },
   "outputs": [],
   "source": [
    "import requests\n",
    "from bs4 import BeautifulSoup\n",
    "\n",
    "def getGoogleNews(phrase, lang):\n",
    "    res = requests.get('https://news.google.com/news/rss/search/section/q/{}/{}?hl=zh-TW&ned=tw'.format(phrase, phrase))\n",
    "    soup = BeautifulSoup(res.text, 'lxml')\n",
    "    news = []\n",
    "    for item in soup.select('item'):\n",
    "        dic = {}\n",
    "        #print(item)\n",
    "        dic['title'] = item.select('title')[0].text\n",
    "        dic['translation'] = googleTranslate(dic['title'])\n",
    "        #dic['link'] = item.select('link')[0].text\n",
    "        dic['pubdate'] = item.select('pubdate')[0].text\n",
    "        dic['description'] = item.select('description')[0].text\n",
    "        dic['category'] = item.select('category')[0].text\n",
    "        dic['lang'] = lang\n",
    "        news.append(dic)\n",
    "    df = pandas.DataFrame(news)\n",
    "    return df\n",
    "    "
   ]
  },
  {
   "cell_type": "code",
   "execution_count": 298,
   "metadata": {
    "collapsed": false
   },
   "outputs": [
    {
     "name": "stderr",
     "output_type": "stream",
     "text": [
      "C:\\ProgramData\\Anaconda3\\lib\\site-packages\\requests\\packages\\urllib3\\connectionpool.py:852: InsecureRequestWarning: Unverified HTTPS request is being made. Adding certificate verification is strongly advised. See: https://urllib3.readthedocs.io/en/latest/advanced-usage.html#ssl-warnings\n",
      "  InsecureRequestWarning)\n",
      "C:\\ProgramData\\Anaconda3\\lib\\site-packages\\requests\\packages\\urllib3\\connectionpool.py:852: InsecureRequestWarning: Unverified HTTPS request is being made. Adding certificate verification is strongly advised. See: https://urllib3.readthedocs.io/en/latest/advanced-usage.html#ssl-warnings\n",
      "  InsecureRequestWarning)\n",
      "C:\\ProgramData\\Anaconda3\\lib\\site-packages\\requests\\packages\\urllib3\\connectionpool.py:852: InsecureRequestWarning: Unverified HTTPS request is being made. Adding certificate verification is strongly advised. See: https://urllib3.readthedocs.io/en/latest/advanced-usage.html#ssl-warnings\n",
      "  InsecureRequestWarning)\n",
      "C:\\ProgramData\\Anaconda3\\lib\\site-packages\\requests\\packages\\urllib3\\connectionpool.py:852: InsecureRequestWarning: Unverified HTTPS request is being made. Adding certificate verification is strongly advised. See: https://urllib3.readthedocs.io/en/latest/advanced-usage.html#ssl-warnings\n",
      "  InsecureRequestWarning)\n",
      "C:\\ProgramData\\Anaconda3\\lib\\site-packages\\requests\\packages\\urllib3\\connectionpool.py:852: InsecureRequestWarning: Unverified HTTPS request is being made. Adding certificate verification is strongly advised. See: https://urllib3.readthedocs.io/en/latest/advanced-usage.html#ssl-warnings\n",
      "  InsecureRequestWarning)\n",
      "C:\\ProgramData\\Anaconda3\\lib\\site-packages\\requests\\packages\\urllib3\\connectionpool.py:852: InsecureRequestWarning: Unverified HTTPS request is being made. Adding certificate verification is strongly advised. See: https://urllib3.readthedocs.io/en/latest/advanced-usage.html#ssl-warnings\n",
      "  InsecureRequestWarning)\n",
      "C:\\ProgramData\\Anaconda3\\lib\\site-packages\\requests\\packages\\urllib3\\connectionpool.py:852: InsecureRequestWarning: Unverified HTTPS request is being made. Adding certificate verification is strongly advised. See: https://urllib3.readthedocs.io/en/latest/advanced-usage.html#ssl-warnings\n",
      "  InsecureRequestWarning)\n",
      "C:\\ProgramData\\Anaconda3\\lib\\site-packages\\requests\\packages\\urllib3\\connectionpool.py:852: InsecureRequestWarning: Unverified HTTPS request is being made. Adding certificate verification is strongly advised. See: https://urllib3.readthedocs.io/en/latest/advanced-usage.html#ssl-warnings\n",
      "  InsecureRequestWarning)\n",
      "C:\\ProgramData\\Anaconda3\\lib\\site-packages\\requests\\packages\\urllib3\\connectionpool.py:852: InsecureRequestWarning: Unverified HTTPS request is being made. Adding certificate verification is strongly advised. See: https://urllib3.readthedocs.io/en/latest/advanced-usage.html#ssl-warnings\n",
      "  InsecureRequestWarning)\n",
      "C:\\ProgramData\\Anaconda3\\lib\\site-packages\\requests\\packages\\urllib3\\connectionpool.py:852: InsecureRequestWarning: Unverified HTTPS request is being made. Adding certificate verification is strongly advised. See: https://urllib3.readthedocs.io/en/latest/advanced-usage.html#ssl-warnings\n",
      "  InsecureRequestWarning)\n",
      "C:\\ProgramData\\Anaconda3\\lib\\site-packages\\requests\\packages\\urllib3\\connectionpool.py:852: InsecureRequestWarning: Unverified HTTPS request is being made. Adding certificate verification is strongly advised. See: https://urllib3.readthedocs.io/en/latest/advanced-usage.html#ssl-warnings\n",
      "  InsecureRequestWarning)\n",
      "C:\\ProgramData\\Anaconda3\\lib\\site-packages\\requests\\packages\\urllib3\\connectionpool.py:852: InsecureRequestWarning: Unverified HTTPS request is being made. Adding certificate verification is strongly advised. See: https://urllib3.readthedocs.io/en/latest/advanced-usage.html#ssl-warnings\n",
      "  InsecureRequestWarning)\n",
      "C:\\ProgramData\\Anaconda3\\lib\\site-packages\\requests\\packages\\urllib3\\connectionpool.py:852: InsecureRequestWarning: Unverified HTTPS request is being made. Adding certificate verification is strongly advised. See: https://urllib3.readthedocs.io/en/latest/advanced-usage.html#ssl-warnings\n",
      "  InsecureRequestWarning)\n",
      "C:\\ProgramData\\Anaconda3\\lib\\site-packages\\requests\\packages\\urllib3\\connectionpool.py:852: InsecureRequestWarning: Unverified HTTPS request is being made. Adding certificate verification is strongly advised. See: https://urllib3.readthedocs.io/en/latest/advanced-usage.html#ssl-warnings\n",
      "  InsecureRequestWarning)\n",
      "C:\\ProgramData\\Anaconda3\\lib\\site-packages\\requests\\packages\\urllib3\\connectionpool.py:852: InsecureRequestWarning: Unverified HTTPS request is being made. Adding certificate verification is strongly advised. See: https://urllib3.readthedocs.io/en/latest/advanced-usage.html#ssl-warnings\n",
      "  InsecureRequestWarning)\n",
      "C:\\ProgramData\\Anaconda3\\lib\\site-packages\\requests\\packages\\urllib3\\connectionpool.py:852: InsecureRequestWarning: Unverified HTTPS request is being made. Adding certificate verification is strongly advised. See: https://urllib3.readthedocs.io/en/latest/advanced-usage.html#ssl-warnings\n",
      "  InsecureRequestWarning)\n",
      "C:\\ProgramData\\Anaconda3\\lib\\site-packages\\requests\\packages\\urllib3\\connectionpool.py:852: InsecureRequestWarning: Unverified HTTPS request is being made. Adding certificate verification is strongly advised. See: https://urllib3.readthedocs.io/en/latest/advanced-usage.html#ssl-warnings\n",
      "  InsecureRequestWarning)\n",
      "C:\\ProgramData\\Anaconda3\\lib\\site-packages\\requests\\packages\\urllib3\\connectionpool.py:852: InsecureRequestWarning: Unverified HTTPS request is being made. Adding certificate verification is strongly advised. See: https://urllib3.readthedocs.io/en/latest/advanced-usage.html#ssl-warnings\n",
      "  InsecureRequestWarning)\n",
      "C:\\ProgramData\\Anaconda3\\lib\\site-packages\\requests\\packages\\urllib3\\connectionpool.py:852: InsecureRequestWarning: Unverified HTTPS request is being made. Adding certificate verification is strongly advised. See: https://urllib3.readthedocs.io/en/latest/advanced-usage.html#ssl-warnings\n",
      "  InsecureRequestWarning)\n",
      "C:\\ProgramData\\Anaconda3\\lib\\site-packages\\requests\\packages\\urllib3\\connectionpool.py:852: InsecureRequestWarning: Unverified HTTPS request is being made. Adding certificate verification is strongly advised. See: https://urllib3.readthedocs.io/en/latest/advanced-usage.html#ssl-warnings\n",
      "  InsecureRequestWarning)\n"
     ]
    }
   ],
   "source": [
    "danque = {\n",
    "'hi':'डेंगू',\n",
    "#'id':'Demam_berdarah_Dengue',\n",
    "#'ja':'デング熱',\n",
    "#'ko':'뎅기열',\n",
    "#'th':'ไข้เด็งกี',\n",
    "#'vi':'Bệnh_dengue'\n",
    "  \n",
    "}\n",
    "\n",
    "newsary = []\n",
    "for lang, phrase in danque.items():\n",
    "    df = getGoogleNews(phrase, lang)\n",
    "    newsary.append(df)"
   ]
  },
  {
   "cell_type": "code",
   "execution_count": 299,
   "metadata": {
    "collapsed": false
   },
   "outputs": [
    {
     "data": {
      "text/html": [
       "<div>\n",
       "<style>\n",
       "    .dataframe thead tr:only-child th {\n",
       "        text-align: right;\n",
       "    }\n",
       "\n",
       "    .dataframe thead th {\n",
       "        text-align: left;\n",
       "    }\n",
       "\n",
       "    .dataframe tbody tr th {\n",
       "        vertical-align: top;\n",
       "    }\n",
       "</style>\n",
       "<table border=\"1\" class=\"dataframe\">\n",
       "  <thead>\n",
       "    <tr style=\"text-align: right;\">\n",
       "      <th></th>\n",
       "      <th>category</th>\n",
       "      <th>description</th>\n",
       "      <th>lang</th>\n",
       "      <th>pubdate</th>\n",
       "      <th>title</th>\n",
       "      <th>translation</th>\n",
       "    </tr>\n",
       "  </thead>\n",
       "  <tbody>\n",
       "    <tr>\n",
       "      <th>0</th>\n",
       "      <td>डेंगू</td>\n",
       "      <td>&lt;table border=\"0\" cellpadding=\"2\" cellspacing=...</td>\n",
       "      <td>hi</td>\n",
       "      <td>Wed, 27 Sep 2017 02:34:16 GMT</td>\n",
       "      <td>डेंगू से जिले में 2 और मौत</td>\n",
       "      <td>登革熱區共有2人死亡</td>\n",
       "    </tr>\n",
       "    <tr>\n",
       "      <th>1</th>\n",
       "      <td>डेंगू</td>\n",
       "      <td>&lt;table border=\"0\" cellpadding=\"2\" cellspacing=...</td>\n",
       "      <td>hi</td>\n",
       "      <td>Wed, 27 Sep 2017 02:13:19 GMT</td>\n",
       "      <td>डेंगू से महिला की मौत,परिजनों ने डाक्टरों पर ल...</td>\n",
       "      <td>登革熱女子死亡，親戚因醫生而被控疏忽</td>\n",
       "    </tr>\n",
       "    <tr>\n",
       "      <th>2</th>\n",
       "      <td>डेंगू</td>\n",
       "      <td>&lt;table border=\"0\" cellpadding=\"2\" cellspacing=...</td>\n",
       "      <td>hi</td>\n",
       "      <td>Wed, 27 Sep 2017 02:31:58 GMT</td>\n",
       "      <td>डेंगू की चपेट में आए एसपी सिटी</td>\n",
       "      <td>登記登記的SP城市</td>\n",
       "    </tr>\n",
       "    <tr>\n",
       "      <th>3</th>\n",
       "      <td>डेंगू</td>\n",
       "      <td>&lt;table border=\"0\" cellpadding=\"2\" cellspacing=...</td>\n",
       "      <td>hi</td>\n",
       "      <td>Tue, 26 Sep 2017 07:37:59 GMT</td>\n",
       "      <td>क्या जीत रहा है डेंगू? मौसम बदलने से बढ़े बीमा...</td>\n",
       "      <td>什麼是登革熱？天氣變化增加，一天四十一天生病</td>\n",
       "    </tr>\n",
       "    <tr>\n",
       "      <th>4</th>\n",
       "      <td>डेंगू</td>\n",
       "      <td>&lt;table border=\"0\" cellpadding=\"2\" cellspacing=...</td>\n",
       "      <td>hi</td>\n",
       "      <td>Wed, 27 Sep 2017 02:34:16 GMT</td>\n",
       "      <td>डेंगू से 13 साल की बच्ची की मौत</td>\n",
       "      <td>13歲的女孩死於登革熱</td>\n",
       "    </tr>\n",
       "  </tbody>\n",
       "</table>\n",
       "</div>"
      ],
      "text/plain": [
       "  category                                        description lang  \\\n",
       "0    डेंगू  <table border=\"0\" cellpadding=\"2\" cellspacing=...   hi   \n",
       "1    डेंगू  <table border=\"0\" cellpadding=\"2\" cellspacing=...   hi   \n",
       "2    डेंगू  <table border=\"0\" cellpadding=\"2\" cellspacing=...   hi   \n",
       "3    डेंगू  <table border=\"0\" cellpadding=\"2\" cellspacing=...   hi   \n",
       "4    डेंगू  <table border=\"0\" cellpadding=\"2\" cellspacing=...   hi   \n",
       "\n",
       "                         pubdate  \\\n",
       "0  Wed, 27 Sep 2017 02:34:16 GMT   \n",
       "1  Wed, 27 Sep 2017 02:13:19 GMT   \n",
       "2  Wed, 27 Sep 2017 02:31:58 GMT   \n",
       "3  Tue, 26 Sep 2017 07:37:59 GMT   \n",
       "4  Wed, 27 Sep 2017 02:34:16 GMT   \n",
       "\n",
       "                                               title             translation  \n",
       "0                         डेंगू से जिले में 2 और मौत              登革熱區共有2人死亡  \n",
       "1  डेंगू से महिला की मौत,परिजनों ने डाक्टरों पर ल...      登革熱女子死亡，親戚因醫生而被控疏忽  \n",
       "2                     डेंगू की चपेट में आए एसपी सिटी               登記登記的SP城市  \n",
       "3  क्या जीत रहा है डेंगू? मौसम बदलने से बढ़े बीमा...  什麼是登革熱？天氣變化增加，一天四十一天生病  \n",
       "4                    डेंगू से 13 साल की बच्ची की मौत             13歲的女孩死於登革熱  "
      ]
     },
     "execution_count": 299,
     "metadata": {},
     "output_type": "execute_result"
    }
   ],
   "source": [
    "disease_df = pandas.concat(newsary)\n",
    "disease_df.head()"
   ]
  },
  {
   "cell_type": "code",
   "execution_count": 295,
   "metadata": {
    "collapsed": true
   },
   "outputs": [],
   "source": [
    "import requests\n",
    "def googleTranslate(article):\n",
    "    payload = {\n",
    "      'q': [article],\n",
    "      'target': 'zh-tw',\n",
    "\n",
    "    }   \n",
    "    key = '<key>'\n",
    "    res = requests.post('https://translation.googleapis.com/language/translate/v2?key={}'.format(key), verify=False, data = payload)\n",
    "    jd = res.json()\n",
    "    return jd['data']['translations'][0]['translatedText']"
   ]
  }
 ],
 "metadata": {
  "kernelspec": {
   "display_name": "Python 3",
   "language": "python",
   "name": "python3"
  },
  "language_info": {
   "codemirror_mode": {
    "name": "ipython",
    "version": 3
   },
   "file_extension": ".py",
   "mimetype": "text/x-python",
   "name": "python",
   "nbconvert_exporter": "python",
   "pygments_lexer": "ipython3",
   "version": "3.6.0"
  }
 },
 "nbformat": 4,
 "nbformat_minor": 2
}
