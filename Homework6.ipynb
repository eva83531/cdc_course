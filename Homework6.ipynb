{
 "cells": [
  {
   "cell_type": "markdown",
   "metadata": {},
   "source": [
    "### 假設您以從蘋果新聞取得一篇登革熱相關新聞(https://github.com/ywchiu/cdc_course/blob/master/data/news.txt) ，請試著回答以下問題：\n",
    "1. 使用Python 讀取該新聞，並將新聞放置一名為disease_news 的物件中\n",
    "2. 使用Jieba 切出中文詞(您必須適當的加一些字詞到字典中，以提高斷詞精準度)，並統計每個字詞出現次數\n",
    "3. 請印出該新聞出現頻率最高三個字詞"
   ]
  },
  {
   "cell_type": "markdown",
   "metadata": {},
   "source": [
    "## 答案一"
   ]
  },
  {
   "cell_type": "code",
   "execution_count": 1,
   "metadata": {
    "collapsed": true
   },
   "outputs": [],
   "source": [
    "with open('news.txt', 'r') as f:\n",
    "    disease_news = f.read()"
   ]
  },
  {
   "cell_type": "code",
   "execution_count": 3,
   "metadata": {},
   "outputs": [
    {
     "data": {
      "text/plain": [
       "'新北市出現當地今年首起登革熱群聚\\u3000憂疫情擴大\\n\\n疾管署提醒，赴東南亞要注意防蚊\\n    \\n新北市出現當地今年首例登革熱群聚事件，衛福部疾管署表示，患者為家住鶯歌區的一對夫妻，近期沒有出國，但卻先後感染登革熱發病，疾管署表示，檢驗夫妻感染的登革熱病毒株為接近越南登革熱流行型別，其居住社區可能潛藏境外移入病例，但兩人就醫2至4次才被確診，恐導致社區潛在個案無法快速被掌握及通報，疫情可能擴大。\\n疾管署副署長羅一鈞表示，這對夫妻約50多歲，太太先於9月20日發病，出現發燒、肌肉痛、關節痛、倦怠等症狀，之後後丈夫也發病，但直到昨日才確診為第一型登革熱，而妻子自昨日確診時已是第4次就醫，從發病到被通報疑似為登革熱，病例隱藏期已歷經7天。\\n羅一鈞表示，登革熱埃及斑蚊較常在南部的高雄、屏東及台南出現大流行，北部、中部的病媒蚊則以白線斑蚊為主，未曾有過登革熱大流行，因此相較使北部醫療院所較少有診治登革熱經驗，病例隱藏期延長，恐導致社區潛在個案未能快速被掌握及通報，提升疫情傳播風險。\\n羅一鈞表示，目前已針對患者居家、活動地周邊進行病媒蚊及孳生源清除，2名患者目前正住院治療中，同住家人暫無疑似症狀。\\n羅一鈞說，由於南部較常出現登革熱流行疫情，掌握感染從者從發病到被通報，病例隱藏期可掌握在1.5天，為做好疫情控制，至少應在3天內通報。\\n根據疾管署統計，今年初截至昨日為止，國內已有5例登革熱本土病例、234例境外移入病例（含2例死亡）；最近東南亞寮國、越南及泰國，登革熱疫情呈上升或處於高水平，越南已累積了12萬5千例患者，比去年同期增加逾40%、寮國逾7700例，提醒民眾到東南亞旅行應做好防蚊措施。(黃仲丘／台北報導)'"
      ]
     },
     "execution_count": 3,
     "metadata": {},
     "output_type": "execute_result"
    }
   ],
   "source": [
    "disease_news"
   ]
  },
  {
   "cell_type": "markdown",
   "metadata": {},
   "source": [
    "## 答案二"
   ]
  },
  {
   "cell_type": "code",
   "execution_count": 23,
   "metadata": {},
   "outputs": [],
   "source": [
    "import jieba\n",
    "# method1\n",
    "jieba.add_word('羅一鈞')\n",
    "\n",
    "# method2\n",
    "jieba.load_userdict('localdict.txt')\n",
    "\n",
    "\n",
    "words_ary = []\n",
    "for words in jieba.cut(disease_news):\n",
    "    words_ary.append(words)"
   ]
  },
  {
   "cell_type": "markdown",
   "metadata": {},
   "source": [
    "### 統計方法一"
   ]
  },
  {
   "cell_type": "code",
   "execution_count": 24,
   "metadata": {},
   "outputs": [],
   "source": [
    "\n",
    "words_dict = {}\n",
    "for word in words_ary:\n",
    "    if not word in words_dict:\n",
    "        words_dict[word] = 1\n",
    "    else:\n",
    "        words_dict[word] = words_dict[word] + 1\n",
    "#words_dict"
   ]
  },
  {
   "cell_type": "code",
   "execution_count": 27,
   "metadata": {},
   "outputs": [],
   "source": [
    "import operator\n",
    "swd = sorted(words_dict.items(), key = operator.itemgetter(1), reverse=True)"
   ]
  },
  {
   "cell_type": "code",
   "execution_count": 30,
   "metadata": {},
   "outputs": [
    {
     "name": "stdout",
     "output_type": "stream",
     "text": [
      "None\n"
     ]
    }
   ],
   "source": [
    "import re\n",
    "s = 'adidas'\n",
    "m = re.match('[\\u4e00-\\u9fa5]+', s)\n",
    "print(m)"
   ]
  },
  {
   "cell_type": "code",
   "execution_count": 33,
   "metadata": {},
   "outputs": [
    {
     "name": "stdout",
     "output_type": "stream",
     "text": [
      "<_sre.SRE_Match object; span=(0, 3), match='登革熱'>\n",
      "<_sre.SRE_Match object; span=(0, 4), match='Hi你好'>\n"
     ]
    }
   ],
   "source": [
    "s = '登革熱'\n",
    "m = re.match('[\\u4e00-\\u9fa5]+', s)\n",
    "print(m)\n",
    "\n",
    "s = 'Hi你好'\n",
    "m = re.match('[a-zA-Z\\u4e00-\\u9fa5]+', s)\n",
    "print(m)"
   ]
  },
  {
   "cell_type": "code",
   "execution_count": 40,
   "metadata": {},
   "outputs": [
    {
     "name": "stdout",
     "output_type": "stream",
     "text": [
      "fail\n"
     ]
    }
   ],
   "source": [
    "cond = None\n",
    "if cond:\n",
    "    print('success')\n",
    "else:\n",
    "    print('fail')"
   ]
  },
  {
   "cell_type": "code",
   "execution_count": 42,
   "metadata": {},
   "outputs": [
    {
     "name": "stdout",
     "output_type": "stream",
     "text": [
      "('登革熱', 13)\n",
      "('疫情', 6)\n",
      "('病例', 6)\n",
      "('出現', 5)\n",
      "('疾管署', 5)\n",
      "('表示', 5)\n",
      "('發病', 5)\n",
      "('通報', 5)\n",
      "('患者', 4)\n",
      "('流行', 4)\n",
      "('掌握', 4)\n",
      "('羅一鈞', 4)\n",
      "('東南亞', 3)\n",
      "('夫妻', 3)\n",
      "('感染', 3)\n",
      "('越南', 3)\n",
      "('社區', 3)\n",
      "('確診', 3)\n",
      "('昨日', 3)\n",
      "('隱藏期', 3)\n",
      "('新北市', 2)\n",
      "('當地', 2)\n",
      "('今年', 2)\n",
      "('群聚', 2)\n",
      "('擴大', 2)\n",
      "('提醒', 2)\n",
      "('防蚊', 2)\n",
      "('可能', 2)\n",
      "('境外', 2)\n",
      "('移入', 2)\n",
      "('就醫', 2)\n",
      "('恐導致', 2)\n",
      "('個案', 2)\n",
      "('快速', 2)\n",
      "('症狀', 2)\n",
      "('疑似', 2)\n",
      "('較常', 2)\n",
      "('南部', 2)\n",
      "('北部', 2)\n",
      "('病媒蚊', 2)\n",
      "('目前', 2)\n",
      "('做好', 2)\n",
      "('注意', 1)\n",
      "('首例', 1)\n",
      "('事件', 1)\n",
      "('衛福部', 1)\n",
      "('家住', 1)\n",
      "('鶯歌區', 1)\n",
      "('近期', 1)\n",
      "('沒有', 1)\n",
      "('出國', 1)\n",
      "('檢驗', 1)\n",
      "('病毒', 1)\n",
      "('接近', 1)\n",
      "('型別', 1)\n",
      "('居住', 1)\n",
      "('潛藏', 1)\n",
      "('兩人', 1)\n",
      "('無法', 1)\n",
      "('副署', 1)\n",
      "('這對', 1)\n",
      "('多歲', 1)\n",
      "('太太', 1)\n",
      "('發燒', 1)\n",
      "('肌肉', 1)\n",
      "('關節', 1)\n",
      "('倦怠', 1)\n",
      "('丈夫', 1)\n",
      "('直到', 1)\n",
      "('第一', 1)\n",
      "('妻子', 1)\n",
      "('歷經', 1)\n",
      "('埃及', 1)\n",
      "('斑蚊', 1)\n",
      "('高雄', 1)\n",
      "('屏東', 1)\n",
      "('台南', 1)\n",
      "('中部', 1)\n",
      "('則以', 1)\n",
      "('白線', 1)\n",
      "('未曾', 1)\n",
      "('有過', 1)\n",
      "('因此', 1)\n",
      "('相較', 1)\n",
      "('醫療', 1)\n",
      "('院所', 1)\n",
      "('少有', 1)\n",
      "('診治', 1)\n",
      "('經驗', 1)\n",
      "('延長', 1)\n",
      "('未能', 1)\n",
      "('提升', 1)\n",
      "('傳播', 1)\n",
      "('風險', 1)\n",
      "('已針', 1)\n",
      "('居家', 1)\n",
      "('活動', 1)\n",
      "('周邊', 1)\n",
      "('進行', 1)\n",
      "('孳生', 1)\n",
      "('清除', 1)\n",
      "('住院', 1)\n",
      "('治療', 1)\n",
      "('家人', 1)\n",
      "('暫無', 1)\n",
      "('從者', 1)\n",
      "('控制', 1)\n",
      "('至少', 1)\n",
      "('天內', 1)\n",
      "('根據', 1)\n",
      "('統計', 1)\n",
      "('今年初', 1)\n",
      "('截至', 1)\n",
      "('為止', 1)\n",
      "('國內', 1)\n",
      "('已有', 1)\n",
      "('本土', 1)\n",
      "('死亡', 1)\n",
      "('最近', 1)\n",
      "('及泰國', 1)\n",
      "('呈上升', 1)\n",
      "('或處', 1)\n",
      "('高水平', 1)\n",
      "('已累積', 1)\n",
      "('千例', 1)\n",
      "('去年同期', 1)\n",
      "('增加', 1)\n",
      "('國逾', 1)\n",
      "('民眾', 1)\n",
      "('旅行', 1)\n",
      "('措施', 1)\n",
      "('黃仲丘', 1)\n",
      "('台北', 1)\n",
      "('報導', 1)\n"
     ]
    }
   ],
   "source": [
    "import re\n",
    "for word in swd:\n",
    "    m = re.match('[a-zA-Z\\u4e00-\\u9fa5]+', word[0]) \n",
    "    if m and len(word[0]) >= 2:\n",
    "        print(word)"
   ]
  },
  {
   "cell_type": "markdown",
   "metadata": {},
   "source": [
    "###  統計方法二"
   ]
  },
  {
   "cell_type": "code",
   "execution_count": 47,
   "metadata": {},
   "outputs": [
    {
     "name": "stdout",
     "output_type": "stream",
     "text": [
      "('登革熱', 13)\n",
      "('疫情', 6)\n",
      "('病例', 6)\n",
      "('出現', 5)\n",
      "('疾管署', 5)\n",
      "('表示', 5)\n",
      "('發病', 5)\n",
      "('通報', 5)\n",
      "('患者', 4)\n",
      "('流行', 4)\n",
      "('掌握', 4)\n",
      "('羅一鈞', 4)\n",
      "('東南亞', 3)\n",
      "('夫妻', 3)\n",
      "('感染', 3)\n",
      "('越南', 3)\n",
      "('社區', 3)\n"
     ]
    }
   ],
   "source": [
    "from collections import Counter\n",
    "c = Counter(words_ary)\n",
    "for word in c.most_common(30):\n",
    "    m = re.match('[a-zA-Z\\u4e00-\\u9fa5]+', word[0]) \n",
    "    if m and len(word[0]) >= 2:\n",
    "        print(word)    "
   ]
  },
  {
   "cell_type": "markdown",
   "metadata": {},
   "source": [
    "## 答案三"
   ]
  },
  {
   "cell_type": "code",
   "execution_count": 50,
   "metadata": {},
   "outputs": [
    {
     "data": {
      "text/plain": [
       "[('登革熱', 13), ('疫情', 6), ('病例', 6)]"
      ]
     },
     "execution_count": 50,
     "metadata": {},
     "output_type": "execute_result"
    }
   ],
   "source": [
    "import jieba, re\n",
    "from collections import Counter\n",
    "jieba.load_userdict('localdict.txt')\n",
    "\n",
    "words_ary = []\n",
    "for words in jieba.cut(disease_news):\n",
    "    m = re.match('[a-zA-Z\\u4e00-\\u9fa5]+', words) \n",
    "    if m and len(words) >= 2:\n",
    "        words_ary.append(words)\n",
    "        \n",
    "c = Counter(words_ary)\n",
    "c.most_common(3)"
   ]
  },
  {
   "cell_type": "markdown",
   "metadata": {},
   "source": [
    "## Plotly\n",
    "- ! pip install plotly\n",
    "- https://plot.ly/python/line-charts/"
   ]
  },
  {
   "cell_type": "code",
   "execution_count": 52,
   "metadata": {},
   "outputs": [
    {
     "name": "stdout",
     "output_type": "stream",
     "text": [
      "Collecting plotly\n",
      "  Downloading plotly-2.1.0.tar.gz (1.1MB)\n",
      "Requirement already satisfied: decorator>=4.0.6 in c:\\programdata\\anaconda3\\lib\\site-packages (from plotly)\n",
      "Requirement already satisfied: nbformat>=4.2 in c:\\programdata\\anaconda3\\lib\\site-packages (from plotly)\n",
      "Requirement already satisfied: pytz in c:\\programdata\\anaconda3\\lib\\site-packages (from plotly)\n",
      "Requirement already satisfied: requests in c:\\programdata\\anaconda3\\lib\\site-packages (from plotly)\n",
      "Requirement already satisfied: six in c:\\programdata\\anaconda3\\lib\\site-packages (from plotly)\n",
      "Building wheels for collected packages: plotly\n",
      "  Running setup.py bdist_wheel for plotly: started\n",
      "  Running setup.py bdist_wheel for plotly: finished with status 'done'\n",
      "  Stored in directory: C:\\Users\\befun\\AppData\\Local\\pip\\Cache\\wheels\\33\\4b\\2f\\b3651cc3166303da7676f5724865089d32f18b8685cc04cffd\n",
      "Successfully built plotly\n",
      "Installing collected packages: plotly\n",
      "Successfully installed plotly-2.1.0\n"
     ]
    }
   ],
   "source": [
    "! pip install plotly"
   ]
  },
  {
   "cell_type": "code",
   "execution_count": 4,
   "metadata": {},
   "outputs": [
    {
     "name": "stdout",
     "output_type": "stream",
     "text": [
      "Populating the interactive namespace from numpy and matplotlib\n"
     ]
    },
    {
     "name": "stderr",
     "output_type": "stream",
     "text": [
      "C:\\ProgramData\\Anaconda3\\lib\\site-packages\\IPython\\core\\magics\\pylab.py:161: UserWarning:\n",
      "\n",
      "pylab import has clobbered these variables: ['__version__', 'trace', 'plot', 'Figure']\n",
      "`%matplotlib` prevents importing * from pylab and numpy\n",
      "\n"
     ]
    },
    {
     "data": {
      "text/plain": [
       "'file://C:\\\\Users\\\\befun\\\\temp-plot.html'"
      ]
     },
     "execution_count": 4,
     "metadata": {},
     "output_type": "execute_result"
    }
   ],
   "source": [
    "% pylab inline\n",
    "from plotly import __version__\n",
    "from plotly.offline import download_plotlyjs, init_notebook_mode, plot, iplot\n",
    "\n",
    "\n",
    "\n",
    "from plotly.graph_objs import Scatter, Figure, Layout\n",
    "\n",
    "plot([Scatter(x=[1, 2, 3], y=[3, 1, 6])])"
   ]
  },
  {
   "cell_type": "code",
   "execution_count": null,
   "metadata": {
    "collapsed": true
   },
   "outputs": [],
   "source": []
  }
 ],
 "metadata": {
  "kernelspec": {
   "display_name": "Python 3",
   "language": "python",
   "name": "python3"
  }
 },
 "nbformat": 4,
 "nbformat_minor": 2
}
